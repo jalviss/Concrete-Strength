{
  "cells": [
    {
      "cell_type": "markdown",
      "metadata": {
        "id": "aGxS2NDCTSYf"
      },
      "source": [
        "# No 2 & 3"
      ]
    },
    {
      "cell_type": "markdown",
      "metadata": {
        "id": "sYftpCLvTfjs"
      },
      "source": [
        "By using the codes learnt in class, build 2 ANN models (1 Sequential, 1 Functional) (10%) for a specific case. You can use any publicly available tabular datasets. Preprocess the data (10%), train (10%), and evaluate the models (10%)! Analyze the training results (10%)! Use markdowns to explain your codes"
      ]
    },
    {
      "cell_type": "markdown",
      "metadata": {
        "id": "FUmCvKauowuT"
      },
      "source": [
        "Implement a callback function. You can use model checkpoints, CSV logger, early stopping, etc. (max. 5 points)"
      ]
    },
    {
      "cell_type": "code",
      "execution_count": 1,
      "metadata": {
        "id": "mcfZB8_zP4x5"
      },
      "outputs": [],
      "source": [
        "import tensorflow as tf\n",
        "import pandas as pd\n",
        "import numpy as np\n",
        "import random\n",
        "\n",
        "SEED_VALUE = 42\n",
        "random.seed(SEED_VALUE)\n",
        "np.random.seed(SEED_VALUE)"
      ]
    },
    {
      "cell_type": "markdown",
      "metadata": {
        "id": "KK7QYQrXTksE"
      },
      "source": [
        "## Load Data"
      ]
    },
    {
      "cell_type": "code",
      "execution_count": 2,
      "metadata": {
        "colab": {
          "base_uri": "https://localhost:8080/",
          "height": 423
        },
        "id": "yUicctrbTm6J",
        "outputId": "66aca8e8-b644-4f47-d6c9-0f0b8d140cff"
      },
      "outputs": [
        {
          "data": {
            "application/vnd.google.colaboratory.intrinsic+json": {
              "summary": "{\n  \"name\": \"df\",\n  \"rows\": 1030,\n  \"fields\": [\n    {\n      \"column\": \"Cement\",\n      \"properties\": {\n        \"dtype\": \"number\",\n        \"std\": 104.50636449481532,\n        \"min\": 102.0,\n        \"max\": 540.0,\n        \"num_unique_values\": 278,\n        \"samples\": [\n          337.9,\n          290.2,\n          262.0\n        ],\n        \"semantic_type\": \"\",\n        \"description\": \"\"\n      }\n    },\n    {\n      \"column\": \"Blast Furnace Slag\",\n      \"properties\": {\n        \"dtype\": \"number\",\n        \"std\": 86.27934174810584,\n        \"min\": 0.0,\n        \"max\": 359.4,\n        \"num_unique_values\": 185,\n        \"samples\": [\n          94.7,\n          119.0,\n          136.3\n        ],\n        \"semantic_type\": \"\",\n        \"description\": \"\"\n      }\n    },\n    {\n      \"column\": \"Fly Ash\",\n      \"properties\": {\n        \"dtype\": \"number\",\n        \"std\": 63.99700415268765,\n        \"min\": 0.0,\n        \"max\": 200.1,\n        \"num_unique_values\": 156,\n        \"samples\": [\n          98.0,\n          142.0,\n          195.0\n        ],\n        \"semantic_type\": \"\",\n        \"description\": \"\"\n      }\n    },\n    {\n      \"column\": \"Water\",\n      \"properties\": {\n        \"dtype\": \"number\",\n        \"std\": 21.35421856503247,\n        \"min\": 121.8,\n        \"max\": 247.0,\n        \"num_unique_values\": 195,\n        \"samples\": [\n          195.4,\n          183.8,\n          127.3\n        ],\n        \"semantic_type\": \"\",\n        \"description\": \"\"\n      }\n    },\n    {\n      \"column\": \"Superplasticizer\",\n      \"properties\": {\n        \"dtype\": \"number\",\n        \"std\": 5.97384139248552,\n        \"min\": 0.0,\n        \"max\": 32.2,\n        \"num_unique_values\": 111,\n        \"samples\": [\n          15.0,\n          28.2,\n          16.5\n        ],\n        \"semantic_type\": \"\",\n        \"description\": \"\"\n      }\n    },\n    {\n      \"column\": \"Coarse Aggregate\",\n      \"properties\": {\n        \"dtype\": \"number\",\n        \"std\": 77.75395396672077,\n        \"min\": 801.0,\n        \"max\": 1145.0,\n        \"num_unique_values\": 284,\n        \"samples\": [\n          852.1,\n          913.9,\n          914.0\n        ],\n        \"semantic_type\": \"\",\n        \"description\": \"\"\n      }\n    },\n    {\n      \"column\": \"Fine Aggregate\",\n      \"properties\": {\n        \"dtype\": \"number\",\n        \"std\": 80.17598014240437,\n        \"min\": 594.0,\n        \"max\": 992.6,\n        \"num_unique_values\": 302,\n        \"samples\": [\n          710.0,\n          695.4,\n          769.3\n        ],\n        \"semantic_type\": \"\",\n        \"description\": \"\"\n      }\n    },\n    {\n      \"column\": \"Age\",\n      \"properties\": {\n        \"dtype\": \"number\",\n        \"std\": 63,\n        \"min\": 1,\n        \"max\": 365,\n        \"num_unique_values\": 14,\n        \"samples\": [\n          91,\n          100,\n          28\n        ],\n        \"semantic_type\": \"\",\n        \"description\": \"\"\n      }\n    },\n    {\n      \"column\": \"Strength\",\n      \"properties\": {\n        \"dtype\": \"number\",\n        \"std\": 16.705741961912512,\n        \"min\": 2.33,\n        \"max\": 82.6,\n        \"num_unique_values\": 845,\n        \"samples\": [\n          41.68,\n          39.59,\n          2.33\n        ],\n        \"semantic_type\": \"\",\n        \"description\": \"\"\n      }\n    }\n  ]\n}",
              "type": "dataframe",
              "variable_name": "df"
            },
            "text/html": [
              "\n",
              "  <div id=\"df-f9e7cc03-e536-49de-b481-99359f4cae95\" class=\"colab-df-container\">\n",
              "    <div>\n",
              "<style scoped>\n",
              "    .dataframe tbody tr th:only-of-type {\n",
              "        vertical-align: middle;\n",
              "    }\n",
              "\n",
              "    .dataframe tbody tr th {\n",
              "        vertical-align: top;\n",
              "    }\n",
              "\n",
              "    .dataframe thead th {\n",
              "        text-align: right;\n",
              "    }\n",
              "</style>\n",
              "<table border=\"1\" class=\"dataframe\">\n",
              "  <thead>\n",
              "    <tr style=\"text-align: right;\">\n",
              "      <th></th>\n",
              "      <th>Cement</th>\n",
              "      <th>Blast Furnace Slag</th>\n",
              "      <th>Fly Ash</th>\n",
              "      <th>Water</th>\n",
              "      <th>Superplasticizer</th>\n",
              "      <th>Coarse Aggregate</th>\n",
              "      <th>Fine Aggregate</th>\n",
              "      <th>Age</th>\n",
              "      <th>Strength</th>\n",
              "    </tr>\n",
              "  </thead>\n",
              "  <tbody>\n",
              "    <tr>\n",
              "      <th>0</th>\n",
              "      <td>540.0</td>\n",
              "      <td>0.0</td>\n",
              "      <td>0.0</td>\n",
              "      <td>162.0</td>\n",
              "      <td>2.5</td>\n",
              "      <td>1040.0</td>\n",
              "      <td>676.0</td>\n",
              "      <td>28</td>\n",
              "      <td>79.99</td>\n",
              "    </tr>\n",
              "    <tr>\n",
              "      <th>1</th>\n",
              "      <td>540.0</td>\n",
              "      <td>0.0</td>\n",
              "      <td>0.0</td>\n",
              "      <td>162.0</td>\n",
              "      <td>2.5</td>\n",
              "      <td>1055.0</td>\n",
              "      <td>676.0</td>\n",
              "      <td>28</td>\n",
              "      <td>61.89</td>\n",
              "    </tr>\n",
              "    <tr>\n",
              "      <th>2</th>\n",
              "      <td>332.5</td>\n",
              "      <td>142.5</td>\n",
              "      <td>0.0</td>\n",
              "      <td>228.0</td>\n",
              "      <td>0.0</td>\n",
              "      <td>932.0</td>\n",
              "      <td>594.0</td>\n",
              "      <td>270</td>\n",
              "      <td>40.27</td>\n",
              "    </tr>\n",
              "    <tr>\n",
              "      <th>3</th>\n",
              "      <td>332.5</td>\n",
              "      <td>142.5</td>\n",
              "      <td>0.0</td>\n",
              "      <td>228.0</td>\n",
              "      <td>0.0</td>\n",
              "      <td>932.0</td>\n",
              "      <td>594.0</td>\n",
              "      <td>365</td>\n",
              "      <td>41.05</td>\n",
              "    </tr>\n",
              "    <tr>\n",
              "      <th>4</th>\n",
              "      <td>198.6</td>\n",
              "      <td>132.4</td>\n",
              "      <td>0.0</td>\n",
              "      <td>192.0</td>\n",
              "      <td>0.0</td>\n",
              "      <td>978.4</td>\n",
              "      <td>825.5</td>\n",
              "      <td>360</td>\n",
              "      <td>44.30</td>\n",
              "    </tr>\n",
              "    <tr>\n",
              "      <th>...</th>\n",
              "      <td>...</td>\n",
              "      <td>...</td>\n",
              "      <td>...</td>\n",
              "      <td>...</td>\n",
              "      <td>...</td>\n",
              "      <td>...</td>\n",
              "      <td>...</td>\n",
              "      <td>...</td>\n",
              "      <td>...</td>\n",
              "    </tr>\n",
              "    <tr>\n",
              "      <th>1025</th>\n",
              "      <td>276.4</td>\n",
              "      <td>116.0</td>\n",
              "      <td>90.3</td>\n",
              "      <td>179.6</td>\n",
              "      <td>8.9</td>\n",
              "      <td>870.1</td>\n",
              "      <td>768.3</td>\n",
              "      <td>28</td>\n",
              "      <td>44.28</td>\n",
              "    </tr>\n",
              "    <tr>\n",
              "      <th>1026</th>\n",
              "      <td>322.2</td>\n",
              "      <td>0.0</td>\n",
              "      <td>115.6</td>\n",
              "      <td>196.0</td>\n",
              "      <td>10.4</td>\n",
              "      <td>817.9</td>\n",
              "      <td>813.4</td>\n",
              "      <td>28</td>\n",
              "      <td>31.18</td>\n",
              "    </tr>\n",
              "    <tr>\n",
              "      <th>1027</th>\n",
              "      <td>148.5</td>\n",
              "      <td>139.4</td>\n",
              "      <td>108.6</td>\n",
              "      <td>192.7</td>\n",
              "      <td>6.1</td>\n",
              "      <td>892.4</td>\n",
              "      <td>780.0</td>\n",
              "      <td>28</td>\n",
              "      <td>23.70</td>\n",
              "    </tr>\n",
              "    <tr>\n",
              "      <th>1028</th>\n",
              "      <td>159.1</td>\n",
              "      <td>186.7</td>\n",
              "      <td>0.0</td>\n",
              "      <td>175.6</td>\n",
              "      <td>11.3</td>\n",
              "      <td>989.6</td>\n",
              "      <td>788.9</td>\n",
              "      <td>28</td>\n",
              "      <td>32.77</td>\n",
              "    </tr>\n",
              "    <tr>\n",
              "      <th>1029</th>\n",
              "      <td>260.9</td>\n",
              "      <td>100.5</td>\n",
              "      <td>78.3</td>\n",
              "      <td>200.6</td>\n",
              "      <td>8.6</td>\n",
              "      <td>864.5</td>\n",
              "      <td>761.5</td>\n",
              "      <td>28</td>\n",
              "      <td>32.40</td>\n",
              "    </tr>\n",
              "  </tbody>\n",
              "</table>\n",
              "<p>1030 rows × 9 columns</p>\n",
              "</div>\n",
              "    <div class=\"colab-df-buttons\">\n",
              "\n",
              "  <div class=\"colab-df-container\">\n",
              "    <button class=\"colab-df-convert\" onclick=\"convertToInteractive('df-f9e7cc03-e536-49de-b481-99359f4cae95')\"\n",
              "            title=\"Convert this dataframe to an interactive table.\"\n",
              "            style=\"display:none;\">\n",
              "\n",
              "  <svg xmlns=\"http://www.w3.org/2000/svg\" height=\"24px\" viewBox=\"0 -960 960 960\">\n",
              "    <path d=\"M120-120v-720h720v720H120Zm60-500h600v-160H180v160Zm220 220h160v-160H400v160Zm0 220h160v-160H400v160ZM180-400h160v-160H180v160Zm440 0h160v-160H620v160ZM180-180h160v-160H180v160Zm440 0h160v-160H620v160Z\"/>\n",
              "  </svg>\n",
              "    </button>\n",
              "\n",
              "  <style>\n",
              "    .colab-df-container {\n",
              "      display:flex;\n",
              "      gap: 12px;\n",
              "    }\n",
              "\n",
              "    .colab-df-convert {\n",
              "      background-color: #E8F0FE;\n",
              "      border: none;\n",
              "      border-radius: 50%;\n",
              "      cursor: pointer;\n",
              "      display: none;\n",
              "      fill: #1967D2;\n",
              "      height: 32px;\n",
              "      padding: 0 0 0 0;\n",
              "      width: 32px;\n",
              "    }\n",
              "\n",
              "    .colab-df-convert:hover {\n",
              "      background-color: #E2EBFA;\n",
              "      box-shadow: 0px 1px 2px rgba(60, 64, 67, 0.3), 0px 1px 3px 1px rgba(60, 64, 67, 0.15);\n",
              "      fill: #174EA6;\n",
              "    }\n",
              "\n",
              "    .colab-df-buttons div {\n",
              "      margin-bottom: 4px;\n",
              "    }\n",
              "\n",
              "    [theme=dark] .colab-df-convert {\n",
              "      background-color: #3B4455;\n",
              "      fill: #D2E3FC;\n",
              "    }\n",
              "\n",
              "    [theme=dark] .colab-df-convert:hover {\n",
              "      background-color: #434B5C;\n",
              "      box-shadow: 0px 1px 3px 1px rgba(0, 0, 0, 0.15);\n",
              "      filter: drop-shadow(0px 1px 2px rgba(0, 0, 0, 0.3));\n",
              "      fill: #FFFFFF;\n",
              "    }\n",
              "  </style>\n",
              "\n",
              "    <script>\n",
              "      const buttonEl =\n",
              "        document.querySelector('#df-f9e7cc03-e536-49de-b481-99359f4cae95 button.colab-df-convert');\n",
              "      buttonEl.style.display =\n",
              "        google.colab.kernel.accessAllowed ? 'block' : 'none';\n",
              "\n",
              "      async function convertToInteractive(key) {\n",
              "        const element = document.querySelector('#df-f9e7cc03-e536-49de-b481-99359f4cae95');\n",
              "        const dataTable =\n",
              "          await google.colab.kernel.invokeFunction('convertToInteractive',\n",
              "                                                    [key], {});\n",
              "        if (!dataTable) return;\n",
              "\n",
              "        const docLinkHtml = 'Like what you see? Visit the ' +\n",
              "          '<a target=\"_blank\" href=https://colab.research.google.com/notebooks/data_table.ipynb>data table notebook</a>'\n",
              "          + ' to learn more about interactive tables.';\n",
              "        element.innerHTML = '';\n",
              "        dataTable['output_type'] = 'display_data';\n",
              "        await google.colab.output.renderOutput(dataTable, element);\n",
              "        const docLink = document.createElement('div');\n",
              "        docLink.innerHTML = docLinkHtml;\n",
              "        element.appendChild(docLink);\n",
              "      }\n",
              "    </script>\n",
              "  </div>\n",
              "\n",
              "\n",
              "<div id=\"df-af67a11f-1ac7-4d98-a7dc-b8e75e29cb3e\">\n",
              "  <button class=\"colab-df-quickchart\" onclick=\"quickchart('df-af67a11f-1ac7-4d98-a7dc-b8e75e29cb3e')\"\n",
              "            title=\"Suggest charts\"\n",
              "            style=\"display:none;\">\n",
              "\n",
              "<svg xmlns=\"http://www.w3.org/2000/svg\" height=\"24px\"viewBox=\"0 0 24 24\"\n",
              "     width=\"24px\">\n",
              "    <g>\n",
              "        <path d=\"M19 3H5c-1.1 0-2 .9-2 2v14c0 1.1.9 2 2 2h14c1.1 0 2-.9 2-2V5c0-1.1-.9-2-2-2zM9 17H7v-7h2v7zm4 0h-2V7h2v10zm4 0h-2v-4h2v4z\"/>\n",
              "    </g>\n",
              "</svg>\n",
              "  </button>\n",
              "\n",
              "<style>\n",
              "  .colab-df-quickchart {\n",
              "      --bg-color: #E8F0FE;\n",
              "      --fill-color: #1967D2;\n",
              "      --hover-bg-color: #E2EBFA;\n",
              "      --hover-fill-color: #174EA6;\n",
              "      --disabled-fill-color: #AAA;\n",
              "      --disabled-bg-color: #DDD;\n",
              "  }\n",
              "\n",
              "  [theme=dark] .colab-df-quickchart {\n",
              "      --bg-color: #3B4455;\n",
              "      --fill-color: #D2E3FC;\n",
              "      --hover-bg-color: #434B5C;\n",
              "      --hover-fill-color: #FFFFFF;\n",
              "      --disabled-bg-color: #3B4455;\n",
              "      --disabled-fill-color: #666;\n",
              "  }\n",
              "\n",
              "  .colab-df-quickchart {\n",
              "    background-color: var(--bg-color);\n",
              "    border: none;\n",
              "    border-radius: 50%;\n",
              "    cursor: pointer;\n",
              "    display: none;\n",
              "    fill: var(--fill-color);\n",
              "    height: 32px;\n",
              "    padding: 0;\n",
              "    width: 32px;\n",
              "  }\n",
              "\n",
              "  .colab-df-quickchart:hover {\n",
              "    background-color: var(--hover-bg-color);\n",
              "    box-shadow: 0 1px 2px rgba(60, 64, 67, 0.3), 0 1px 3px 1px rgba(60, 64, 67, 0.15);\n",
              "    fill: var(--button-hover-fill-color);\n",
              "  }\n",
              "\n",
              "  .colab-df-quickchart-complete:disabled,\n",
              "  .colab-df-quickchart-complete:disabled:hover {\n",
              "    background-color: var(--disabled-bg-color);\n",
              "    fill: var(--disabled-fill-color);\n",
              "    box-shadow: none;\n",
              "  }\n",
              "\n",
              "  .colab-df-spinner {\n",
              "    border: 2px solid var(--fill-color);\n",
              "    border-color: transparent;\n",
              "    border-bottom-color: var(--fill-color);\n",
              "    animation:\n",
              "      spin 1s steps(1) infinite;\n",
              "  }\n",
              "\n",
              "  @keyframes spin {\n",
              "    0% {\n",
              "      border-color: transparent;\n",
              "      border-bottom-color: var(--fill-color);\n",
              "      border-left-color: var(--fill-color);\n",
              "    }\n",
              "    20% {\n",
              "      border-color: transparent;\n",
              "      border-left-color: var(--fill-color);\n",
              "      border-top-color: var(--fill-color);\n",
              "    }\n",
              "    30% {\n",
              "      border-color: transparent;\n",
              "      border-left-color: var(--fill-color);\n",
              "      border-top-color: var(--fill-color);\n",
              "      border-right-color: var(--fill-color);\n",
              "    }\n",
              "    40% {\n",
              "      border-color: transparent;\n",
              "      border-right-color: var(--fill-color);\n",
              "      border-top-color: var(--fill-color);\n",
              "    }\n",
              "    60% {\n",
              "      border-color: transparent;\n",
              "      border-right-color: var(--fill-color);\n",
              "    }\n",
              "    80% {\n",
              "      border-color: transparent;\n",
              "      border-right-color: var(--fill-color);\n",
              "      border-bottom-color: var(--fill-color);\n",
              "    }\n",
              "    90% {\n",
              "      border-color: transparent;\n",
              "      border-bottom-color: var(--fill-color);\n",
              "    }\n",
              "  }\n",
              "</style>\n",
              "\n",
              "  <script>\n",
              "    async function quickchart(key) {\n",
              "      const quickchartButtonEl =\n",
              "        document.querySelector('#' + key + ' button');\n",
              "      quickchartButtonEl.disabled = true;  // To prevent multiple clicks.\n",
              "      quickchartButtonEl.classList.add('colab-df-spinner');\n",
              "      try {\n",
              "        const charts = await google.colab.kernel.invokeFunction(\n",
              "            'suggestCharts', [key], {});\n",
              "      } catch (error) {\n",
              "        console.error('Error during call to suggestCharts:', error);\n",
              "      }\n",
              "      quickchartButtonEl.classList.remove('colab-df-spinner');\n",
              "      quickchartButtonEl.classList.add('colab-df-quickchart-complete');\n",
              "    }\n",
              "    (() => {\n",
              "      let quickchartButtonEl =\n",
              "        document.querySelector('#df-af67a11f-1ac7-4d98-a7dc-b8e75e29cb3e button');\n",
              "      quickchartButtonEl.style.display =\n",
              "        google.colab.kernel.accessAllowed ? 'block' : 'none';\n",
              "    })();\n",
              "  </script>\n",
              "</div>\n",
              "    </div>\n",
              "  </div>\n"
            ],
            "text/plain": [
              "      Cement  Blast Furnace Slag  Fly Ash  Water  Superplasticizer  \\\n",
              "0      540.0                 0.0      0.0  162.0               2.5   \n",
              "1      540.0                 0.0      0.0  162.0               2.5   \n",
              "2      332.5               142.5      0.0  228.0               0.0   \n",
              "3      332.5               142.5      0.0  228.0               0.0   \n",
              "4      198.6               132.4      0.0  192.0               0.0   \n",
              "...      ...                 ...      ...    ...               ...   \n",
              "1025   276.4               116.0     90.3  179.6               8.9   \n",
              "1026   322.2                 0.0    115.6  196.0              10.4   \n",
              "1027   148.5               139.4    108.6  192.7               6.1   \n",
              "1028   159.1               186.7      0.0  175.6              11.3   \n",
              "1029   260.9               100.5     78.3  200.6               8.6   \n",
              "\n",
              "      Coarse Aggregate  Fine Aggregate  Age  Strength  \n",
              "0               1040.0           676.0   28     79.99  \n",
              "1               1055.0           676.0   28     61.89  \n",
              "2                932.0           594.0  270     40.27  \n",
              "3                932.0           594.0  365     41.05  \n",
              "4                978.4           825.5  360     44.30  \n",
              "...                ...             ...  ...       ...  \n",
              "1025             870.1           768.3   28     44.28  \n",
              "1026             817.9           813.4   28     31.18  \n",
              "1027             892.4           780.0   28     23.70  \n",
              "1028             989.6           788.9   28     32.77  \n",
              "1029             864.5           761.5   28     32.40  \n",
              "\n",
              "[1030 rows x 9 columns]"
            ]
          },
          "execution_count": 2,
          "metadata": {},
          "output_type": "execute_result"
        }
      ],
      "source": [
        "df = pd.read_csv(\"concrete_data.csv\")\n",
        "df"
      ]
    },
    {
      "cell_type": "code",
      "execution_count": 3,
      "metadata": {
        "colab": {
          "base_uri": "https://localhost:8080/",
          "height": 331
        },
        "id": "qWblcVlwnos1",
        "outputId": "e98c5c32-a00e-4c98-a854-3078692bf0ff"
      },
      "outputs": [
        {
          "data": {
            "application/vnd.google.colaboratory.intrinsic+json": {
              "summary": "{\n  \"name\": \"df\",\n  \"rows\": 9,\n  \"fields\": [\n    {\n      \"column\": \"count\",\n      \"properties\": {\n        \"dtype\": \"number\",\n        \"std\": 0.0,\n        \"min\": 1030.0,\n        \"max\": 1030.0,\n        \"num_unique_values\": 1,\n        \"samples\": [\n          1030.0\n        ],\n        \"semantic_type\": \"\",\n        \"description\": \"\"\n      }\n    },\n    {\n      \"column\": \"mean\",\n      \"properties\": {\n        \"dtype\": \"number\",\n        \"std\": 356.26865302628823,\n        \"min\": 6.204660194174758,\n        \"max\": 972.9189320388349,\n        \"num_unique_values\": 9,\n        \"samples\": [\n          45.662135922330094\n        ],\n        \"semantic_type\": \"\",\n        \"description\": \"\"\n      }\n    },\n    {\n      \"column\": \"std\",\n      \"properties\": {\n        \"dtype\": \"number\",\n        \"std\": 34.75200672756799,\n        \"min\": 5.97384139248552,\n        \"max\": 104.50636449481532,\n        \"num_unique_values\": 9,\n        \"samples\": [\n          63.16991158103249\n        ],\n        \"semantic_type\": \"\",\n        \"description\": \"\"\n      }\n    },\n    {\n      \"column\": \"min\",\n      \"properties\": {\n        \"dtype\": \"number\",\n        \"std\": 301.5201827407247,\n        \"min\": 0.0,\n        \"max\": 801.0,\n        \"num_unique_values\": 7,\n        \"samples\": [\n          102.0\n        ],\n        \"semantic_type\": \"\",\n        \"description\": \"\"\n      }\n    },\n    {\n      \"column\": \"25%\",\n      \"properties\": {\n        \"dtype\": \"number\",\n        \"std\": 353.6157397514992,\n        \"min\": 0.0,\n        \"max\": 932.0,\n        \"num_unique_values\": 7,\n        \"samples\": [\n          192.375\n        ],\n        \"semantic_type\": \"\",\n        \"description\": \"\"\n      }\n    },\n    {\n      \"column\": \"50%\",\n      \"properties\": {\n        \"dtype\": \"number\",\n        \"std\": 365.7148745607704,\n        \"min\": 0.0,\n        \"max\": 968.0,\n        \"num_unique_values\": 9,\n        \"samples\": [\n          28.0\n        ],\n        \"semantic_type\": \"\",\n        \"description\": \"\"\n      }\n    },\n    {\n      \"column\": \"75%\",\n      \"properties\": {\n        \"dtype\": \"number\",\n        \"std\": 368.42276339485323,\n        \"min\": 10.2,\n        \"max\": 1029.4,\n        \"num_unique_values\": 9,\n        \"samples\": [\n          56.0\n        ],\n        \"semantic_type\": \"\",\n        \"description\": \"\"\n      }\n    },\n    {\n      \"column\": \"max\",\n      \"properties\": {\n        \"dtype\": \"number\",\n        \"std\": 389.44640837989505,\n        \"min\": 32.2,\n        \"max\": 1145.0,\n        \"num_unique_values\": 9,\n        \"samples\": [\n          365.0\n        ],\n        \"semantic_type\": \"\",\n        \"description\": \"\"\n      }\n    }\n  ]\n}",
              "type": "dataframe"
            },
            "text/html": [
              "\n",
              "  <div id=\"df-b382a059-26bf-4dcf-bb0a-9946d6048a73\" class=\"colab-df-container\">\n",
              "    <div>\n",
              "<style scoped>\n",
              "    .dataframe tbody tr th:only-of-type {\n",
              "        vertical-align: middle;\n",
              "    }\n",
              "\n",
              "    .dataframe tbody tr th {\n",
              "        vertical-align: top;\n",
              "    }\n",
              "\n",
              "    .dataframe thead th {\n",
              "        text-align: right;\n",
              "    }\n",
              "</style>\n",
              "<table border=\"1\" class=\"dataframe\">\n",
              "  <thead>\n",
              "    <tr style=\"text-align: right;\">\n",
              "      <th></th>\n",
              "      <th>count</th>\n",
              "      <th>mean</th>\n",
              "      <th>std</th>\n",
              "      <th>min</th>\n",
              "      <th>25%</th>\n",
              "      <th>50%</th>\n",
              "      <th>75%</th>\n",
              "      <th>max</th>\n",
              "    </tr>\n",
              "  </thead>\n",
              "  <tbody>\n",
              "    <tr>\n",
              "      <th>Cement</th>\n",
              "      <td>1030.0</td>\n",
              "      <td>281.167864</td>\n",
              "      <td>104.506364</td>\n",
              "      <td>102.00</td>\n",
              "      <td>192.375</td>\n",
              "      <td>272.900</td>\n",
              "      <td>350.000</td>\n",
              "      <td>540.0</td>\n",
              "    </tr>\n",
              "    <tr>\n",
              "      <th>Blast Furnace Slag</th>\n",
              "      <td>1030.0</td>\n",
              "      <td>73.895825</td>\n",
              "      <td>86.279342</td>\n",
              "      <td>0.00</td>\n",
              "      <td>0.000</td>\n",
              "      <td>22.000</td>\n",
              "      <td>142.950</td>\n",
              "      <td>359.4</td>\n",
              "    </tr>\n",
              "    <tr>\n",
              "      <th>Fly Ash</th>\n",
              "      <td>1030.0</td>\n",
              "      <td>54.188350</td>\n",
              "      <td>63.997004</td>\n",
              "      <td>0.00</td>\n",
              "      <td>0.000</td>\n",
              "      <td>0.000</td>\n",
              "      <td>118.300</td>\n",
              "      <td>200.1</td>\n",
              "    </tr>\n",
              "    <tr>\n",
              "      <th>Water</th>\n",
              "      <td>1030.0</td>\n",
              "      <td>181.567282</td>\n",
              "      <td>21.354219</td>\n",
              "      <td>121.80</td>\n",
              "      <td>164.900</td>\n",
              "      <td>185.000</td>\n",
              "      <td>192.000</td>\n",
              "      <td>247.0</td>\n",
              "    </tr>\n",
              "    <tr>\n",
              "      <th>Superplasticizer</th>\n",
              "      <td>1030.0</td>\n",
              "      <td>6.204660</td>\n",
              "      <td>5.973841</td>\n",
              "      <td>0.00</td>\n",
              "      <td>0.000</td>\n",
              "      <td>6.400</td>\n",
              "      <td>10.200</td>\n",
              "      <td>32.2</td>\n",
              "    </tr>\n",
              "    <tr>\n",
              "      <th>Coarse Aggregate</th>\n",
              "      <td>1030.0</td>\n",
              "      <td>972.918932</td>\n",
              "      <td>77.753954</td>\n",
              "      <td>801.00</td>\n",
              "      <td>932.000</td>\n",
              "      <td>968.000</td>\n",
              "      <td>1029.400</td>\n",
              "      <td>1145.0</td>\n",
              "    </tr>\n",
              "    <tr>\n",
              "      <th>Fine Aggregate</th>\n",
              "      <td>1030.0</td>\n",
              "      <td>773.580485</td>\n",
              "      <td>80.175980</td>\n",
              "      <td>594.00</td>\n",
              "      <td>730.950</td>\n",
              "      <td>779.500</td>\n",
              "      <td>824.000</td>\n",
              "      <td>992.6</td>\n",
              "    </tr>\n",
              "    <tr>\n",
              "      <th>Age</th>\n",
              "      <td>1030.0</td>\n",
              "      <td>45.662136</td>\n",
              "      <td>63.169912</td>\n",
              "      <td>1.00</td>\n",
              "      <td>7.000</td>\n",
              "      <td>28.000</td>\n",
              "      <td>56.000</td>\n",
              "      <td>365.0</td>\n",
              "    </tr>\n",
              "    <tr>\n",
              "      <th>Strength</th>\n",
              "      <td>1030.0</td>\n",
              "      <td>35.817961</td>\n",
              "      <td>16.705742</td>\n",
              "      <td>2.33</td>\n",
              "      <td>23.710</td>\n",
              "      <td>34.445</td>\n",
              "      <td>46.135</td>\n",
              "      <td>82.6</td>\n",
              "    </tr>\n",
              "  </tbody>\n",
              "</table>\n",
              "</div>\n",
              "    <div class=\"colab-df-buttons\">\n",
              "\n",
              "  <div class=\"colab-df-container\">\n",
              "    <button class=\"colab-df-convert\" onclick=\"convertToInteractive('df-b382a059-26bf-4dcf-bb0a-9946d6048a73')\"\n",
              "            title=\"Convert this dataframe to an interactive table.\"\n",
              "            style=\"display:none;\">\n",
              "\n",
              "  <svg xmlns=\"http://www.w3.org/2000/svg\" height=\"24px\" viewBox=\"0 -960 960 960\">\n",
              "    <path d=\"M120-120v-720h720v720H120Zm60-500h600v-160H180v160Zm220 220h160v-160H400v160Zm0 220h160v-160H400v160ZM180-400h160v-160H180v160Zm440 0h160v-160H620v160ZM180-180h160v-160H180v160Zm440 0h160v-160H620v160Z\"/>\n",
              "  </svg>\n",
              "    </button>\n",
              "\n",
              "  <style>\n",
              "    .colab-df-container {\n",
              "      display:flex;\n",
              "      gap: 12px;\n",
              "    }\n",
              "\n",
              "    .colab-df-convert {\n",
              "      background-color: #E8F0FE;\n",
              "      border: none;\n",
              "      border-radius: 50%;\n",
              "      cursor: pointer;\n",
              "      display: none;\n",
              "      fill: #1967D2;\n",
              "      height: 32px;\n",
              "      padding: 0 0 0 0;\n",
              "      width: 32px;\n",
              "    }\n",
              "\n",
              "    .colab-df-convert:hover {\n",
              "      background-color: #E2EBFA;\n",
              "      box-shadow: 0px 1px 2px rgba(60, 64, 67, 0.3), 0px 1px 3px 1px rgba(60, 64, 67, 0.15);\n",
              "      fill: #174EA6;\n",
              "    }\n",
              "\n",
              "    .colab-df-buttons div {\n",
              "      margin-bottom: 4px;\n",
              "    }\n",
              "\n",
              "    [theme=dark] .colab-df-convert {\n",
              "      background-color: #3B4455;\n",
              "      fill: #D2E3FC;\n",
              "    }\n",
              "\n",
              "    [theme=dark] .colab-df-convert:hover {\n",
              "      background-color: #434B5C;\n",
              "      box-shadow: 0px 1px 3px 1px rgba(0, 0, 0, 0.15);\n",
              "      filter: drop-shadow(0px 1px 2px rgba(0, 0, 0, 0.3));\n",
              "      fill: #FFFFFF;\n",
              "    }\n",
              "  </style>\n",
              "\n",
              "    <script>\n",
              "      const buttonEl =\n",
              "        document.querySelector('#df-b382a059-26bf-4dcf-bb0a-9946d6048a73 button.colab-df-convert');\n",
              "      buttonEl.style.display =\n",
              "        google.colab.kernel.accessAllowed ? 'block' : 'none';\n",
              "\n",
              "      async function convertToInteractive(key) {\n",
              "        const element = document.querySelector('#df-b382a059-26bf-4dcf-bb0a-9946d6048a73');\n",
              "        const dataTable =\n",
              "          await google.colab.kernel.invokeFunction('convertToInteractive',\n",
              "                                                    [key], {});\n",
              "        if (!dataTable) return;\n",
              "\n",
              "        const docLinkHtml = 'Like what you see? Visit the ' +\n",
              "          '<a target=\"_blank\" href=https://colab.research.google.com/notebooks/data_table.ipynb>data table notebook</a>'\n",
              "          + ' to learn more about interactive tables.';\n",
              "        element.innerHTML = '';\n",
              "        dataTable['output_type'] = 'display_data';\n",
              "        await google.colab.output.renderOutput(dataTable, element);\n",
              "        const docLink = document.createElement('div');\n",
              "        docLink.innerHTML = docLinkHtml;\n",
              "        element.appendChild(docLink);\n",
              "      }\n",
              "    </script>\n",
              "  </div>\n",
              "\n",
              "\n",
              "<div id=\"df-53fc0b0a-3707-45ad-813c-1feb7ea421cd\">\n",
              "  <button class=\"colab-df-quickchart\" onclick=\"quickchart('df-53fc0b0a-3707-45ad-813c-1feb7ea421cd')\"\n",
              "            title=\"Suggest charts\"\n",
              "            style=\"display:none;\">\n",
              "\n",
              "<svg xmlns=\"http://www.w3.org/2000/svg\" height=\"24px\"viewBox=\"0 0 24 24\"\n",
              "     width=\"24px\">\n",
              "    <g>\n",
              "        <path d=\"M19 3H5c-1.1 0-2 .9-2 2v14c0 1.1.9 2 2 2h14c1.1 0 2-.9 2-2V5c0-1.1-.9-2-2-2zM9 17H7v-7h2v7zm4 0h-2V7h2v10zm4 0h-2v-4h2v4z\"/>\n",
              "    </g>\n",
              "</svg>\n",
              "  </button>\n",
              "\n",
              "<style>\n",
              "  .colab-df-quickchart {\n",
              "      --bg-color: #E8F0FE;\n",
              "      --fill-color: #1967D2;\n",
              "      --hover-bg-color: #E2EBFA;\n",
              "      --hover-fill-color: #174EA6;\n",
              "      --disabled-fill-color: #AAA;\n",
              "      --disabled-bg-color: #DDD;\n",
              "  }\n",
              "\n",
              "  [theme=dark] .colab-df-quickchart {\n",
              "      --bg-color: #3B4455;\n",
              "      --fill-color: #D2E3FC;\n",
              "      --hover-bg-color: #434B5C;\n",
              "      --hover-fill-color: #FFFFFF;\n",
              "      --disabled-bg-color: #3B4455;\n",
              "      --disabled-fill-color: #666;\n",
              "  }\n",
              "\n",
              "  .colab-df-quickchart {\n",
              "    background-color: var(--bg-color);\n",
              "    border: none;\n",
              "    border-radius: 50%;\n",
              "    cursor: pointer;\n",
              "    display: none;\n",
              "    fill: var(--fill-color);\n",
              "    height: 32px;\n",
              "    padding: 0;\n",
              "    width: 32px;\n",
              "  }\n",
              "\n",
              "  .colab-df-quickchart:hover {\n",
              "    background-color: var(--hover-bg-color);\n",
              "    box-shadow: 0 1px 2px rgba(60, 64, 67, 0.3), 0 1px 3px 1px rgba(60, 64, 67, 0.15);\n",
              "    fill: var(--button-hover-fill-color);\n",
              "  }\n",
              "\n",
              "  .colab-df-quickchart-complete:disabled,\n",
              "  .colab-df-quickchart-complete:disabled:hover {\n",
              "    background-color: var(--disabled-bg-color);\n",
              "    fill: var(--disabled-fill-color);\n",
              "    box-shadow: none;\n",
              "  }\n",
              "\n",
              "  .colab-df-spinner {\n",
              "    border: 2px solid var(--fill-color);\n",
              "    border-color: transparent;\n",
              "    border-bottom-color: var(--fill-color);\n",
              "    animation:\n",
              "      spin 1s steps(1) infinite;\n",
              "  }\n",
              "\n",
              "  @keyframes spin {\n",
              "    0% {\n",
              "      border-color: transparent;\n",
              "      border-bottom-color: var(--fill-color);\n",
              "      border-left-color: var(--fill-color);\n",
              "    }\n",
              "    20% {\n",
              "      border-color: transparent;\n",
              "      border-left-color: var(--fill-color);\n",
              "      border-top-color: var(--fill-color);\n",
              "    }\n",
              "    30% {\n",
              "      border-color: transparent;\n",
              "      border-left-color: var(--fill-color);\n",
              "      border-top-color: var(--fill-color);\n",
              "      border-right-color: var(--fill-color);\n",
              "    }\n",
              "    40% {\n",
              "      border-color: transparent;\n",
              "      border-right-color: var(--fill-color);\n",
              "      border-top-color: var(--fill-color);\n",
              "    }\n",
              "    60% {\n",
              "      border-color: transparent;\n",
              "      border-right-color: var(--fill-color);\n",
              "    }\n",
              "    80% {\n",
              "      border-color: transparent;\n",
              "      border-right-color: var(--fill-color);\n",
              "      border-bottom-color: var(--fill-color);\n",
              "    }\n",
              "    90% {\n",
              "      border-color: transparent;\n",
              "      border-bottom-color: var(--fill-color);\n",
              "    }\n",
              "  }\n",
              "</style>\n",
              "\n",
              "  <script>\n",
              "    async function quickchart(key) {\n",
              "      const quickchartButtonEl =\n",
              "        document.querySelector('#' + key + ' button');\n",
              "      quickchartButtonEl.disabled = true;  // To prevent multiple clicks.\n",
              "      quickchartButtonEl.classList.add('colab-df-spinner');\n",
              "      try {\n",
              "        const charts = await google.colab.kernel.invokeFunction(\n",
              "            'suggestCharts', [key], {});\n",
              "      } catch (error) {\n",
              "        console.error('Error during call to suggestCharts:', error);\n",
              "      }\n",
              "      quickchartButtonEl.classList.remove('colab-df-spinner');\n",
              "      quickchartButtonEl.classList.add('colab-df-quickchart-complete');\n",
              "    }\n",
              "    (() => {\n",
              "      let quickchartButtonEl =\n",
              "        document.querySelector('#df-53fc0b0a-3707-45ad-813c-1feb7ea421cd button');\n",
              "      quickchartButtonEl.style.display =\n",
              "        google.colab.kernel.accessAllowed ? 'block' : 'none';\n",
              "    })();\n",
              "  </script>\n",
              "</div>\n",
              "    </div>\n",
              "  </div>\n"
            ],
            "text/plain": [
              "                     count        mean         std     min      25%      50%  \\\n",
              "Cement              1030.0  281.167864  104.506364  102.00  192.375  272.900   \n",
              "Blast Furnace Slag  1030.0   73.895825   86.279342    0.00    0.000   22.000   \n",
              "Fly Ash             1030.0   54.188350   63.997004    0.00    0.000    0.000   \n",
              "Water               1030.0  181.567282   21.354219  121.80  164.900  185.000   \n",
              "Superplasticizer    1030.0    6.204660    5.973841    0.00    0.000    6.400   \n",
              "Coarse Aggregate    1030.0  972.918932   77.753954  801.00  932.000  968.000   \n",
              "Fine Aggregate      1030.0  773.580485   80.175980  594.00  730.950  779.500   \n",
              "Age                 1030.0   45.662136   63.169912    1.00    7.000   28.000   \n",
              "Strength            1030.0   35.817961   16.705742    2.33   23.710   34.445   \n",
              "\n",
              "                         75%     max  \n",
              "Cement               350.000   540.0  \n",
              "Blast Furnace Slag   142.950   359.4  \n",
              "Fly Ash              118.300   200.1  \n",
              "Water                192.000   247.0  \n",
              "Superplasticizer      10.200    32.2  \n",
              "Coarse Aggregate    1029.400  1145.0  \n",
              "Fine Aggregate       824.000   992.6  \n",
              "Age                   56.000   365.0  \n",
              "Strength              46.135    82.6  "
            ]
          },
          "execution_count": 3,
          "metadata": {},
          "output_type": "execute_result"
        }
      ],
      "source": [
        "df.describe().T"
      ]
    },
    {
      "cell_type": "markdown",
      "metadata": {
        "id": "SOqkoukqoDHs"
      },
      "source": [
        "## Preprocessing"
      ]
    },
    {
      "cell_type": "markdown",
      "metadata": {
        "id": "8w71AUreSoQy"
      },
      "source": [
        "### Check Missing Value"
      ]
    },
    {
      "cell_type": "code",
      "execution_count": 4,
      "metadata": {
        "colab": {
          "base_uri": "https://localhost:8080/"
        },
        "id": "7J9k93C7TwWZ",
        "outputId": "751391a9-087f-4d74-c4bf-2ad7d6eaaf03"
      },
      "outputs": [
        {
          "data": {
            "text/plain": [
              "Cement                0\n",
              "Blast Furnace Slag    0\n",
              "Fly Ash               0\n",
              "Water                 0\n",
              "Superplasticizer      0\n",
              "Coarse Aggregate      0\n",
              "Fine Aggregate        0\n",
              "Age                   0\n",
              "Strength              0\n",
              "dtype: int64"
            ]
          },
          "execution_count": 4,
          "metadata": {},
          "output_type": "execute_result"
        }
      ],
      "source": [
        "df.isna().sum()"
      ]
    },
    {
      "cell_type": "markdown",
      "metadata": {
        "id": "LuSq-MM3SrCp"
      },
      "source": [
        "### Handle Duplicate"
      ]
    },
    {
      "cell_type": "code",
      "execution_count": 5,
      "metadata": {
        "colab": {
          "base_uri": "https://localhost:8080/"
        },
        "id": "Gx9Xrr5ST29A",
        "outputId": "12a80b38-cb81-49f1-e01f-9365a391e1fa"
      },
      "outputs": [
        {
          "data": {
            "text/plain": [
              "25"
            ]
          },
          "execution_count": 5,
          "metadata": {},
          "output_type": "execute_result"
        }
      ],
      "source": [
        "df.duplicated().sum()"
      ]
    },
    {
      "cell_type": "code",
      "execution_count": 6,
      "metadata": {
        "colab": {
          "base_uri": "https://localhost:8080/"
        },
        "id": "PJmLp9GCm7m7",
        "outputId": "f26448b9-5464-416c-bcbb-a7aabbdd109e"
      },
      "outputs": [
        {
          "data": {
            "text/plain": [
              "(1030, 9)"
            ]
          },
          "execution_count": 6,
          "metadata": {},
          "output_type": "execute_result"
        }
      ],
      "source": [
        "df.shape"
      ]
    },
    {
      "cell_type": "code",
      "execution_count": 7,
      "metadata": {
        "id": "E3AypFUHm68p"
      },
      "outputs": [],
      "source": [
        "df.drop_duplicates(inplace=True)"
      ]
    },
    {
      "cell_type": "code",
      "execution_count": 8,
      "metadata": {
        "colab": {
          "base_uri": "https://localhost:8080/"
        },
        "id": "PBC4AdDAnB4p",
        "outputId": "d74ee208-712c-4b0e-e842-b972b989aa10"
      },
      "outputs": [
        {
          "data": {
            "text/plain": [
              "(1005, 9)"
            ]
          },
          "execution_count": 8,
          "metadata": {},
          "output_type": "execute_result"
        }
      ],
      "source": [
        "df.shape"
      ]
    },
    {
      "cell_type": "code",
      "execution_count": 9,
      "metadata": {
        "colab": {
          "base_uri": "https://localhost:8080/",
          "height": 331
        },
        "id": "5xgc-MW1nwBS",
        "outputId": "f122dc00-1972-4bc7-d44b-d70f41aab785"
      },
      "outputs": [
        {
          "data": {
            "application/vnd.google.colaboratory.intrinsic+json": {
              "summary": "{\n  \"name\": \"df\",\n  \"rows\": 9,\n  \"fields\": [\n    {\n      \"column\": \"count\",\n      \"properties\": {\n        \"dtype\": \"number\",\n        \"std\": 0.0,\n        \"min\": 1005.0,\n        \"max\": 1005.0,\n        \"num_unique_values\": 1,\n        \"samples\": [\n          1005.0\n        ],\n        \"semantic_type\": \"\",\n        \"description\": \"\"\n      }\n    },\n    {\n      \"column\": \"mean\",\n      \"properties\": {\n        \"dtype\": \"number\",\n        \"std\": 356.5194022138011,\n        \"min\": 6.033233830845772,\n        \"max\": 974.3768159203979,\n        \"num_unique_values\": 9,\n        \"samples\": [\n          45.85671641791045\n        ],\n        \"semantic_type\": \"\",\n        \"description\": \"\"\n      }\n    },\n    {\n      \"column\": \"std\",\n      \"properties\": {\n        \"dtype\": \"number\",\n        \"std\": 34.805315521536585,\n        \"min\": 5.919966720023434,\n        \"max\": 104.34426071285245,\n        \"num_unique_values\": 9,\n        \"samples\": [\n          63.73469167941662\n        ],\n        \"semantic_type\": \"\",\n        \"description\": \"\"\n      }\n    },\n    {\n      \"column\": \"min\",\n      \"properties\": {\n        \"dtype\": \"number\",\n        \"std\": 301.5201827407247,\n        \"min\": 0.0,\n        \"max\": 801.0,\n        \"num_unique_values\": 7,\n        \"samples\": [\n          102.0\n        ],\n        \"semantic_type\": \"\",\n        \"description\": \"\"\n      }\n    },\n    {\n      \"column\": \"25%\",\n      \"properties\": {\n        \"dtype\": \"number\",\n        \"std\": 352.43600678389515,\n        \"min\": 0.0,\n        \"max\": 932.0,\n        \"num_unique_values\": 7,\n        \"samples\": [\n          190.7\n        ],\n        \"semantic_type\": \"\",\n        \"description\": \"\"\n      }\n    },\n    {\n      \"column\": \"50%\",\n      \"properties\": {\n        \"dtype\": \"number\",\n        \"std\": 365.982974330774,\n        \"min\": 0.0,\n        \"max\": 968.0,\n        \"num_unique_values\": 9,\n        \"samples\": [\n          28.0\n        ],\n        \"semantic_type\": \"\",\n        \"description\": \"\"\n      }\n    },\n    {\n      \"column\": \"75%\",\n      \"properties\": {\n        \"dtype\": \"number\",\n        \"std\": 368.6085911385017,\n        \"min\": 10.0,\n        \"max\": 1031.0,\n        \"num_unique_values\": 9,\n        \"samples\": [\n          56.0\n        ],\n        \"semantic_type\": \"\",\n        \"description\": \"\"\n      }\n    },\n    {\n      \"column\": \"max\",\n      \"properties\": {\n        \"dtype\": \"number\",\n        \"std\": 389.44640837989505,\n        \"min\": 32.2,\n        \"max\": 1145.0,\n        \"num_unique_values\": 9,\n        \"samples\": [\n          365.0\n        ],\n        \"semantic_type\": \"\",\n        \"description\": \"\"\n      }\n    }\n  ]\n}",
              "type": "dataframe"
            },
            "text/html": [
              "\n",
              "  <div id=\"df-912a7e8f-9a01-49c5-9d3a-b40dfb156638\" class=\"colab-df-container\">\n",
              "    <div>\n",
              "<style scoped>\n",
              "    .dataframe tbody tr th:only-of-type {\n",
              "        vertical-align: middle;\n",
              "    }\n",
              "\n",
              "    .dataframe tbody tr th {\n",
              "        vertical-align: top;\n",
              "    }\n",
              "\n",
              "    .dataframe thead th {\n",
              "        text-align: right;\n",
              "    }\n",
              "</style>\n",
              "<table border=\"1\" class=\"dataframe\">\n",
              "  <thead>\n",
              "    <tr style=\"text-align: right;\">\n",
              "      <th></th>\n",
              "      <th>count</th>\n",
              "      <th>mean</th>\n",
              "      <th>std</th>\n",
              "      <th>min</th>\n",
              "      <th>25%</th>\n",
              "      <th>50%</th>\n",
              "      <th>75%</th>\n",
              "      <th>max</th>\n",
              "    </tr>\n",
              "  </thead>\n",
              "  <tbody>\n",
              "    <tr>\n",
              "      <th>Cement</th>\n",
              "      <td>1005.0</td>\n",
              "      <td>278.631343</td>\n",
              "      <td>104.344261</td>\n",
              "      <td>102.00</td>\n",
              "      <td>190.70</td>\n",
              "      <td>265.0</td>\n",
              "      <td>349.00</td>\n",
              "      <td>540.0</td>\n",
              "    </tr>\n",
              "    <tr>\n",
              "      <th>Blast Furnace Slag</th>\n",
              "      <td>1005.0</td>\n",
              "      <td>72.043483</td>\n",
              "      <td>86.170807</td>\n",
              "      <td>0.00</td>\n",
              "      <td>0.00</td>\n",
              "      <td>20.0</td>\n",
              "      <td>142.50</td>\n",
              "      <td>359.4</td>\n",
              "    </tr>\n",
              "    <tr>\n",
              "      <th>Fly Ash</th>\n",
              "      <td>1005.0</td>\n",
              "      <td>55.536318</td>\n",
              "      <td>64.207969</td>\n",
              "      <td>0.00</td>\n",
              "      <td>0.00</td>\n",
              "      <td>0.0</td>\n",
              "      <td>118.30</td>\n",
              "      <td>200.1</td>\n",
              "    </tr>\n",
              "    <tr>\n",
              "      <th>Water</th>\n",
              "      <td>1005.0</td>\n",
              "      <td>182.075323</td>\n",
              "      <td>21.339334</td>\n",
              "      <td>121.80</td>\n",
              "      <td>166.60</td>\n",
              "      <td>185.7</td>\n",
              "      <td>192.90</td>\n",
              "      <td>247.0</td>\n",
              "    </tr>\n",
              "    <tr>\n",
              "      <th>Superplasticizer</th>\n",
              "      <td>1005.0</td>\n",
              "      <td>6.033234</td>\n",
              "      <td>5.919967</td>\n",
              "      <td>0.00</td>\n",
              "      <td>0.00</td>\n",
              "      <td>6.1</td>\n",
              "      <td>10.00</td>\n",
              "      <td>32.2</td>\n",
              "    </tr>\n",
              "    <tr>\n",
              "      <th>Coarse Aggregate</th>\n",
              "      <td>1005.0</td>\n",
              "      <td>974.376816</td>\n",
              "      <td>77.579667</td>\n",
              "      <td>801.00</td>\n",
              "      <td>932.00</td>\n",
              "      <td>968.0</td>\n",
              "      <td>1031.00</td>\n",
              "      <td>1145.0</td>\n",
              "    </tr>\n",
              "    <tr>\n",
              "      <th>Fine Aggregate</th>\n",
              "      <td>1005.0</td>\n",
              "      <td>772.688259</td>\n",
              "      <td>80.340435</td>\n",
              "      <td>594.00</td>\n",
              "      <td>724.30</td>\n",
              "      <td>780.0</td>\n",
              "      <td>822.20</td>\n",
              "      <td>992.6</td>\n",
              "    </tr>\n",
              "    <tr>\n",
              "      <th>Age</th>\n",
              "      <td>1005.0</td>\n",
              "      <td>45.856716</td>\n",
              "      <td>63.734692</td>\n",
              "      <td>1.00</td>\n",
              "      <td>7.00</td>\n",
              "      <td>28.0</td>\n",
              "      <td>56.00</td>\n",
              "      <td>365.0</td>\n",
              "    </tr>\n",
              "    <tr>\n",
              "      <th>Strength</th>\n",
              "      <td>1005.0</td>\n",
              "      <td>35.250378</td>\n",
              "      <td>16.284815</td>\n",
              "      <td>2.33</td>\n",
              "      <td>23.52</td>\n",
              "      <td>33.8</td>\n",
              "      <td>44.87</td>\n",
              "      <td>82.6</td>\n",
              "    </tr>\n",
              "  </tbody>\n",
              "</table>\n",
              "</div>\n",
              "    <div class=\"colab-df-buttons\">\n",
              "\n",
              "  <div class=\"colab-df-container\">\n",
              "    <button class=\"colab-df-convert\" onclick=\"convertToInteractive('df-912a7e8f-9a01-49c5-9d3a-b40dfb156638')\"\n",
              "            title=\"Convert this dataframe to an interactive table.\"\n",
              "            style=\"display:none;\">\n",
              "\n",
              "  <svg xmlns=\"http://www.w3.org/2000/svg\" height=\"24px\" viewBox=\"0 -960 960 960\">\n",
              "    <path d=\"M120-120v-720h720v720H120Zm60-500h600v-160H180v160Zm220 220h160v-160H400v160Zm0 220h160v-160H400v160ZM180-400h160v-160H180v160Zm440 0h160v-160H620v160ZM180-180h160v-160H180v160Zm440 0h160v-160H620v160Z\"/>\n",
              "  </svg>\n",
              "    </button>\n",
              "\n",
              "  <style>\n",
              "    .colab-df-container {\n",
              "      display:flex;\n",
              "      gap: 12px;\n",
              "    }\n",
              "\n",
              "    .colab-df-convert {\n",
              "      background-color: #E8F0FE;\n",
              "      border: none;\n",
              "      border-radius: 50%;\n",
              "      cursor: pointer;\n",
              "      display: none;\n",
              "      fill: #1967D2;\n",
              "      height: 32px;\n",
              "      padding: 0 0 0 0;\n",
              "      width: 32px;\n",
              "    }\n",
              "\n",
              "    .colab-df-convert:hover {\n",
              "      background-color: #E2EBFA;\n",
              "      box-shadow: 0px 1px 2px rgba(60, 64, 67, 0.3), 0px 1px 3px 1px rgba(60, 64, 67, 0.15);\n",
              "      fill: #174EA6;\n",
              "    }\n",
              "\n",
              "    .colab-df-buttons div {\n",
              "      margin-bottom: 4px;\n",
              "    }\n",
              "\n",
              "    [theme=dark] .colab-df-convert {\n",
              "      background-color: #3B4455;\n",
              "      fill: #D2E3FC;\n",
              "    }\n",
              "\n",
              "    [theme=dark] .colab-df-convert:hover {\n",
              "      background-color: #434B5C;\n",
              "      box-shadow: 0px 1px 3px 1px rgba(0, 0, 0, 0.15);\n",
              "      filter: drop-shadow(0px 1px 2px rgba(0, 0, 0, 0.3));\n",
              "      fill: #FFFFFF;\n",
              "    }\n",
              "  </style>\n",
              "\n",
              "    <script>\n",
              "      const buttonEl =\n",
              "        document.querySelector('#df-912a7e8f-9a01-49c5-9d3a-b40dfb156638 button.colab-df-convert');\n",
              "      buttonEl.style.display =\n",
              "        google.colab.kernel.accessAllowed ? 'block' : 'none';\n",
              "\n",
              "      async function convertToInteractive(key) {\n",
              "        const element = document.querySelector('#df-912a7e8f-9a01-49c5-9d3a-b40dfb156638');\n",
              "        const dataTable =\n",
              "          await google.colab.kernel.invokeFunction('convertToInteractive',\n",
              "                                                    [key], {});\n",
              "        if (!dataTable) return;\n",
              "\n",
              "        const docLinkHtml = 'Like what you see? Visit the ' +\n",
              "          '<a target=\"_blank\" href=https://colab.research.google.com/notebooks/data_table.ipynb>data table notebook</a>'\n",
              "          + ' to learn more about interactive tables.';\n",
              "        element.innerHTML = '';\n",
              "        dataTable['output_type'] = 'display_data';\n",
              "        await google.colab.output.renderOutput(dataTable, element);\n",
              "        const docLink = document.createElement('div');\n",
              "        docLink.innerHTML = docLinkHtml;\n",
              "        element.appendChild(docLink);\n",
              "      }\n",
              "    </script>\n",
              "  </div>\n",
              "\n",
              "\n",
              "<div id=\"df-053b9df9-cf9c-49da-998c-5cbdff540e9f\">\n",
              "  <button class=\"colab-df-quickchart\" onclick=\"quickchart('df-053b9df9-cf9c-49da-998c-5cbdff540e9f')\"\n",
              "            title=\"Suggest charts\"\n",
              "            style=\"display:none;\">\n",
              "\n",
              "<svg xmlns=\"http://www.w3.org/2000/svg\" height=\"24px\"viewBox=\"0 0 24 24\"\n",
              "     width=\"24px\">\n",
              "    <g>\n",
              "        <path d=\"M19 3H5c-1.1 0-2 .9-2 2v14c0 1.1.9 2 2 2h14c1.1 0 2-.9 2-2V5c0-1.1-.9-2-2-2zM9 17H7v-7h2v7zm4 0h-2V7h2v10zm4 0h-2v-4h2v4z\"/>\n",
              "    </g>\n",
              "</svg>\n",
              "  </button>\n",
              "\n",
              "<style>\n",
              "  .colab-df-quickchart {\n",
              "      --bg-color: #E8F0FE;\n",
              "      --fill-color: #1967D2;\n",
              "      --hover-bg-color: #E2EBFA;\n",
              "      --hover-fill-color: #174EA6;\n",
              "      --disabled-fill-color: #AAA;\n",
              "      --disabled-bg-color: #DDD;\n",
              "  }\n",
              "\n",
              "  [theme=dark] .colab-df-quickchart {\n",
              "      --bg-color: #3B4455;\n",
              "      --fill-color: #D2E3FC;\n",
              "      --hover-bg-color: #434B5C;\n",
              "      --hover-fill-color: #FFFFFF;\n",
              "      --disabled-bg-color: #3B4455;\n",
              "      --disabled-fill-color: #666;\n",
              "  }\n",
              "\n",
              "  .colab-df-quickchart {\n",
              "    background-color: var(--bg-color);\n",
              "    border: none;\n",
              "    border-radius: 50%;\n",
              "    cursor: pointer;\n",
              "    display: none;\n",
              "    fill: var(--fill-color);\n",
              "    height: 32px;\n",
              "    padding: 0;\n",
              "    width: 32px;\n",
              "  }\n",
              "\n",
              "  .colab-df-quickchart:hover {\n",
              "    background-color: var(--hover-bg-color);\n",
              "    box-shadow: 0 1px 2px rgba(60, 64, 67, 0.3), 0 1px 3px 1px rgba(60, 64, 67, 0.15);\n",
              "    fill: var(--button-hover-fill-color);\n",
              "  }\n",
              "\n",
              "  .colab-df-quickchart-complete:disabled,\n",
              "  .colab-df-quickchart-complete:disabled:hover {\n",
              "    background-color: var(--disabled-bg-color);\n",
              "    fill: var(--disabled-fill-color);\n",
              "    box-shadow: none;\n",
              "  }\n",
              "\n",
              "  .colab-df-spinner {\n",
              "    border: 2px solid var(--fill-color);\n",
              "    border-color: transparent;\n",
              "    border-bottom-color: var(--fill-color);\n",
              "    animation:\n",
              "      spin 1s steps(1) infinite;\n",
              "  }\n",
              "\n",
              "  @keyframes spin {\n",
              "    0% {\n",
              "      border-color: transparent;\n",
              "      border-bottom-color: var(--fill-color);\n",
              "      border-left-color: var(--fill-color);\n",
              "    }\n",
              "    20% {\n",
              "      border-color: transparent;\n",
              "      border-left-color: var(--fill-color);\n",
              "      border-top-color: var(--fill-color);\n",
              "    }\n",
              "    30% {\n",
              "      border-color: transparent;\n",
              "      border-left-color: var(--fill-color);\n",
              "      border-top-color: var(--fill-color);\n",
              "      border-right-color: var(--fill-color);\n",
              "    }\n",
              "    40% {\n",
              "      border-color: transparent;\n",
              "      border-right-color: var(--fill-color);\n",
              "      border-top-color: var(--fill-color);\n",
              "    }\n",
              "    60% {\n",
              "      border-color: transparent;\n",
              "      border-right-color: var(--fill-color);\n",
              "    }\n",
              "    80% {\n",
              "      border-color: transparent;\n",
              "      border-right-color: var(--fill-color);\n",
              "      border-bottom-color: var(--fill-color);\n",
              "    }\n",
              "    90% {\n",
              "      border-color: transparent;\n",
              "      border-bottom-color: var(--fill-color);\n",
              "    }\n",
              "  }\n",
              "</style>\n",
              "\n",
              "  <script>\n",
              "    async function quickchart(key) {\n",
              "      const quickchartButtonEl =\n",
              "        document.querySelector('#' + key + ' button');\n",
              "      quickchartButtonEl.disabled = true;  // To prevent multiple clicks.\n",
              "      quickchartButtonEl.classList.add('colab-df-spinner');\n",
              "      try {\n",
              "        const charts = await google.colab.kernel.invokeFunction(\n",
              "            'suggestCharts', [key], {});\n",
              "      } catch (error) {\n",
              "        console.error('Error during call to suggestCharts:', error);\n",
              "      }\n",
              "      quickchartButtonEl.classList.remove('colab-df-spinner');\n",
              "      quickchartButtonEl.classList.add('colab-df-quickchart-complete');\n",
              "    }\n",
              "    (() => {\n",
              "      let quickchartButtonEl =\n",
              "        document.querySelector('#df-053b9df9-cf9c-49da-998c-5cbdff540e9f button');\n",
              "      quickchartButtonEl.style.display =\n",
              "        google.colab.kernel.accessAllowed ? 'block' : 'none';\n",
              "    })();\n",
              "  </script>\n",
              "</div>\n",
              "    </div>\n",
              "  </div>\n"
            ],
            "text/plain": [
              "                     count        mean         std     min     25%    50%  \\\n",
              "Cement              1005.0  278.631343  104.344261  102.00  190.70  265.0   \n",
              "Blast Furnace Slag  1005.0   72.043483   86.170807    0.00    0.00   20.0   \n",
              "Fly Ash             1005.0   55.536318   64.207969    0.00    0.00    0.0   \n",
              "Water               1005.0  182.075323   21.339334  121.80  166.60  185.7   \n",
              "Superplasticizer    1005.0    6.033234    5.919967    0.00    0.00    6.1   \n",
              "Coarse Aggregate    1005.0  974.376816   77.579667  801.00  932.00  968.0   \n",
              "Fine Aggregate      1005.0  772.688259   80.340435  594.00  724.30  780.0   \n",
              "Age                 1005.0   45.856716   63.734692    1.00    7.00   28.0   \n",
              "Strength            1005.0   35.250378   16.284815    2.33   23.52   33.8   \n",
              "\n",
              "                        75%     max  \n",
              "Cement               349.00   540.0  \n",
              "Blast Furnace Slag   142.50   359.4  \n",
              "Fly Ash              118.30   200.1  \n",
              "Water                192.90   247.0  \n",
              "Superplasticizer      10.00    32.2  \n",
              "Coarse Aggregate    1031.00  1145.0  \n",
              "Fine Aggregate       822.20   992.6  \n",
              "Age                   56.00   365.0  \n",
              "Strength              44.87    82.6  "
            ]
          },
          "execution_count": 9,
          "metadata": {},
          "output_type": "execute_result"
        }
      ],
      "source": [
        "df.describe().T"
      ]
    },
    {
      "cell_type": "code",
      "execution_count": 10,
      "metadata": {
        "colab": {
          "base_uri": "https://localhost:8080/"
        },
        "id": "xlU9DaWi1-dc",
        "outputId": "ab32d305-24fb-4f5f-86b7-d4f1cb960307"
      },
      "outputs": [
        {
          "name": "stdout",
          "output_type": "stream",
          "text": [
            "Index(['Cement', 'Blast Furnace Slag', 'Fly Ash', 'Water', 'Superplasticizer',\n",
            "       'Coarse Aggregate', 'Fine Aggregate', 'Age', 'Strength'],\n",
            "      dtype='object')\n"
          ]
        }
      ],
      "source": [
        "print(df.columns)"
      ]
    },
    {
      "cell_type": "markdown",
      "metadata": {
        "id": "kSH76HwBSv0b"
      },
      "source": [
        "### Check outlier"
      ]
    },
    {
      "cell_type": "code",
      "execution_count": 11,
      "metadata": {
        "colab": {
          "base_uri": "https://localhost:8080/",
          "height": 448
        },
        "id": "ezuSTvF-o_Hl",
        "outputId": "67da21da-0cae-48cd-fc7f-92f9b83da66f"
      },
      "outputs": [
        {
          "data": {
            "text/plain": [
              "<Axes: >"
            ]
          },
          "execution_count": 11,
          "metadata": {},
          "output_type": "execute_result"
        },
        {
          "data": {
            "image/png": "[encoded data removed]",
            "text/plain": [
              "<Figure size 640x480 with 1 Axes>"
            ]
          },
          "metadata": {},
          "output_type": "display_data"
        }
      ],
      "source": [
        "df.boxplot(column=['Cement', 'Blast Furnace Slag', 'Fly Ash', 'Water', 'Superplasticizer'])"
      ]
    },
    {
      "cell_type": "code",
      "execution_count": 12,
      "metadata": {
        "colab": {
          "base_uri": "https://localhost:8080/",
          "height": 453
        },
        "id": "1KlachWL2Y_K",
        "outputId": "6ae04f32-b483-46e1-c0a0-6b1539cbc647"
      },
      "outputs": [
        {
          "data": {
            "text/plain": [
              "<Axes: >"
            ]
          },
          "execution_count": 12,
          "metadata": {},
          "output_type": "execute_result"
        },
        {
          "data": {
            "image/png": "[encoded data removed]",
            "text/plain": [
              "<Figure size 640x480 with 1 Axes>"
            ]
          },
          "metadata": {},
          "output_type": "display_data"
        }
      ],
      "source": [
        "df.boxplot(column=['Coarse Aggregate', 'Fine Aggregate', 'Age', 'Strength'])"
      ]
    },
    {
      "cell_type": "markdown",
      "metadata": {
        "id": "6QGSMKdloLRW"
      },
      "source": [
        "### Split Data"
      ]
    },
    {
      "cell_type": "code",
      "execution_count": 13,
      "metadata": {
        "id": "ylqUHSUtoCqz"
      },
      "outputs": [],
      "source": [
        "x = df.drop(columns=['Strength'], axis=1)\n",
        "y = df['Strength']"
      ]
    },
    {
      "cell_type": "code",
      "execution_count": 14,
      "metadata": {
        "colab": {
          "base_uri": "https://localhost:8080/"
        },
        "id": "I9U8GuyWok_b",
        "outputId": "f4696708-aa5a-42f2-e229-5b4ea5bdef18"
      },
      "outputs": [
        {
          "name": "stdout",
          "output_type": "stream",
          "text": [
            "(703, 8) (703,)\n",
            "(181, 8) (181,)\n",
            "(121, 8) (121,)\n"
          ]
        }
      ],
      "source": [
        "from sklearn.model_selection import train_test_split\n",
        "\n",
        "x_train, x_test, y_train, y_test = train_test_split(x, y, test_size=0.3, random_state=SEED_VALUE)\n",
        "x_val, x_test, y_val, y_test = train_test_split(x_test, y_test, test_size=0.4, random_state=SEED_VALUE)\n",
        "\n",
        "print(x_train.shape, y_train.shape)\n",
        "print(x_val.shape, y_val.shape)\n",
        "print(x_test.shape, y_test.shape)"
      ]
    },
    {
      "cell_type": "markdown",
      "metadata": {
        "id": "4B-E-7nrPama"
      },
      "source": [
        "### Scaling"
      ]
    },
    {
      "cell_type": "markdown",
      "metadata": {
        "id": "BjGCXegWRtYW"
      },
      "source": [
        "might not be used if the model is good enough"
      ]
    },
    {
      "cell_type": "code",
      "execution_count": 15,
      "metadata": {
        "colab": {
          "base_uri": "https://localhost:8080/"
        },
        "id": "K8JbxAf2Jqyw",
        "outputId": "0a48d8be-c97d-4fcf-ad5a-9478db254fc9"
      },
      "outputs": [
        {
          "name": "stdout",
          "output_type": "stream",
          "text": [
            "(703, 8) (703,)\n",
            "(181, 8) (181,)\n",
            "(121, 8) (121,)\n"
          ]
        }
      ],
      "source": [
        "x_train_scaled = x_train.copy()\n",
        "x_val_scaled = x_val.copy()\n",
        "x_test_scaled = x_test.copy()\n",
        "\n",
        "y_train_scaled = y_train.copy()\n",
        "y_val_scaled = y_val.copy()\n",
        "y_test_scaled = y_test.copy()\n",
        "\n",
        "print(x_train_scaled.shape, y_train_scaled.shape)\n",
        "print(x_val_scaled.shape, y_val_scaled.shape)\n",
        "print(x_test_scaled.shape, y_test_scaled.shape)"
      ]
    },
    {
      "cell_type": "code",
      "execution_count": 16,
      "metadata": {
        "colab": {
          "base_uri": "https://localhost:8080/",
          "height": 423
        },
        "id": "5Jyc2xtSRgRT",
        "outputId": "56399f19-8e4d-42d3-b065-c6894c7184c8"
      },
      "outputs": [
        {
          "data": {
            "application/vnd.google.colaboratory.intrinsic+json": {
              "summary": "{\n  \"name\": \"x_train_scaled\",\n  \"rows\": 703,\n  \"fields\": [\n    {\n      \"column\": \"Cement\",\n      \"properties\": {\n        \"dtype\": \"number\",\n        \"std\": 103.59630851478698,\n        \"min\": 102.0,\n        \"max\": 540.0,\n        \"num_unique_values\": 244,\n        \"samples\": [\n          261.9,\n          277.0,\n          182.0\n        ],\n        \"semantic_type\": \"\",\n        \"description\": \"\"\n      }\n    },\n    {\n      \"column\": \"Blast Furnace Slag\",\n      \"properties\": {\n        \"dtype\": \"number\",\n        \"std\": 85.8337055545183,\n        \"min\": 0.0,\n        \"max\": 359.4,\n        \"num_unique_values\": 155,\n        \"samples\": [\n          142.8,\n          136.3,\n          163.9\n        ],\n        \"semantic_type\": \"\",\n        \"description\": \"\"\n      }\n    },\n    {\n      \"column\": \"Fly Ash\",\n      \"properties\": {\n        \"dtype\": \"number\",\n        \"std\": 64.95192240828769,\n        \"min\": 0.0,\n        \"max\": 200.1,\n        \"num_unique_values\": 131,\n        \"samples\": [\n          137.9,\n          123.8,\n          132.1\n        ],\n        \"semantic_type\": \"\",\n        \"description\": \"\"\n      }\n    },\n    {\n      \"column\": \"Water\",\n      \"properties\": {\n        \"dtype\": \"number\",\n        \"std\": 21.008749749272706,\n        \"min\": 121.8,\n        \"max\": 237.0,\n        \"num_unique_values\": 165,\n        \"samples\": [\n          170.0,\n          174.9,\n          167.9\n        ],\n        \"semantic_type\": \"\",\n        \"description\": \"\"\n      }\n    },\n    {\n      \"column\": \"Superplasticizer\",\n      \"properties\": {\n        \"dtype\": \"number\",\n        \"std\": 5.972920615533484,\n        \"min\": 0.0,\n        \"max\": 32.2,\n        \"num_unique_values\": 104,\n        \"samples\": [\n          10.8,\n          9.2,\n          5.3\n        ],\n        \"semantic_type\": \"\",\n        \"description\": \"\"\n      }\n    },\n    {\n      \"column\": \"Coarse Aggregate\",\n      \"properties\": {\n        \"dtype\": \"number\",\n        \"std\": 77.6842585901202,\n        \"min\": 801.0,\n        \"max\": 1134.3,\n        \"num_unique_values\": 245,\n        \"samples\": [\n          942.0,\n          968.0,\n          1085.0\n        ],\n        \"semantic_type\": \"\",\n        \"description\": \"\"\n      }\n    },\n    {\n      \"column\": \"Fine Aggregate\",\n      \"properties\": {\n        \"dtype\": \"number\",\n        \"std\": 79.4665911858672,\n        \"min\": 594.0,\n        \"max\": 992.6,\n        \"num_unique_values\": 266,\n        \"samples\": [\n          735.6,\n          992.6,\n          900.9\n        ],\n        \"semantic_type\": \"\",\n        \"description\": \"\"\n      }\n    },\n    {\n      \"column\": \"Age\",\n      \"properties\": {\n        \"dtype\": \"number\",\n        \"std\": 61,\n        \"min\": 1,\n        \"max\": 365,\n        \"num_unique_values\": 14,\n        \"samples\": [\n          270,\n          91,\n          7\n        ],\n        \"semantic_type\": \"\",\n        \"description\": \"\"\n      }\n    }\n  ]\n}",
              "type": "dataframe",
              "variable_name": "x_train_scaled"
            },
            "text/html": [
              "\n",
              "  <div id=\"df-73cfa514-4f09-4d87-8a75-0043666e4641\" class=\"colab-df-container\">\n",
              "    <div>\n",
              "<style scoped>\n",
              "    .dataframe tbody tr th:only-of-type {\n",
              "        vertical-align: middle;\n",
              "    }\n",
              "\n",
              "    .dataframe tbody tr th {\n",
              "        vertical-align: top;\n",
              "    }\n",
              "\n",
              "    .dataframe thead th {\n",
              "        text-align: right;\n",
              "    }\n",
              "</style>\n",
              "<table border=\"1\" class=\"dataframe\">\n",
              "  <thead>\n",
              "    <tr style=\"text-align: right;\">\n",
              "      <th></th>\n",
              "      <th>Cement</th>\n",
              "      <th>Blast Furnace Slag</th>\n",
              "      <th>Fly Ash</th>\n",
              "      <th>Water</th>\n",
              "      <th>Superplasticizer</th>\n",
              "      <th>Coarse Aggregate</th>\n",
              "      <th>Fine Aggregate</th>\n",
              "      <th>Age</th>\n",
              "    </tr>\n",
              "  </thead>\n",
              "  <tbody>\n",
              "    <tr>\n",
              "      <th>567</th>\n",
              "      <td>203.5</td>\n",
              "      <td>135.7</td>\n",
              "      <td>0.0</td>\n",
              "      <td>185.7</td>\n",
              "      <td>0.0</td>\n",
              "      <td>1076.2</td>\n",
              "      <td>759.3</td>\n",
              "      <td>7</td>\n",
              "    </tr>\n",
              "    <tr>\n",
              "      <th>466</th>\n",
              "      <td>190.3</td>\n",
              "      <td>0.0</td>\n",
              "      <td>125.2</td>\n",
              "      <td>166.6</td>\n",
              "      <td>9.9</td>\n",
              "      <td>1079.0</td>\n",
              "      <td>798.9</td>\n",
              "      <td>100</td>\n",
              "    </tr>\n",
              "    <tr>\n",
              "      <th>845</th>\n",
              "      <td>321.0</td>\n",
              "      <td>164.0</td>\n",
              "      <td>0.0</td>\n",
              "      <td>190.0</td>\n",
              "      <td>5.0</td>\n",
              "      <td>870.0</td>\n",
              "      <td>774.0</td>\n",
              "      <td>28</td>\n",
              "    </tr>\n",
              "    <tr>\n",
              "      <th>422</th>\n",
              "      <td>167.4</td>\n",
              "      <td>129.9</td>\n",
              "      <td>128.6</td>\n",
              "      <td>175.5</td>\n",
              "      <td>7.8</td>\n",
              "      <td>1006.3</td>\n",
              "      <td>746.6</td>\n",
              "      <td>14</td>\n",
              "    </tr>\n",
              "    <tr>\n",
              "      <th>984</th>\n",
              "      <td>154.8</td>\n",
              "      <td>0.0</td>\n",
              "      <td>142.8</td>\n",
              "      <td>193.3</td>\n",
              "      <td>9.1</td>\n",
              "      <td>877.2</td>\n",
              "      <td>867.7</td>\n",
              "      <td>28</td>\n",
              "    </tr>\n",
              "    <tr>\n",
              "      <th>...</th>\n",
              "      <td>...</td>\n",
              "      <td>...</td>\n",
              "      <td>...</td>\n",
              "      <td>...</td>\n",
              "      <td>...</td>\n",
              "      <td>...</td>\n",
              "      <td>...</td>\n",
              "      <td>...</td>\n",
              "    </tr>\n",
              "    <tr>\n",
              "      <th>115</th>\n",
              "      <td>337.9</td>\n",
              "      <td>189.0</td>\n",
              "      <td>0.0</td>\n",
              "      <td>174.9</td>\n",
              "      <td>9.5</td>\n",
              "      <td>944.7</td>\n",
              "      <td>755.8</td>\n",
              "      <td>7</td>\n",
              "    </tr>\n",
              "    <tr>\n",
              "      <th>294</th>\n",
              "      <td>168.9</td>\n",
              "      <td>42.2</td>\n",
              "      <td>124.3</td>\n",
              "      <td>158.3</td>\n",
              "      <td>10.8</td>\n",
              "      <td>1080.8</td>\n",
              "      <td>796.2</td>\n",
              "      <td>3</td>\n",
              "    </tr>\n",
              "    <tr>\n",
              "      <th>885</th>\n",
              "      <td>153.0</td>\n",
              "      <td>145.0</td>\n",
              "      <td>113.0</td>\n",
              "      <td>178.0</td>\n",
              "      <td>8.0</td>\n",
              "      <td>867.0</td>\n",
              "      <td>824.0</td>\n",
              "      <td>28</td>\n",
              "    </tr>\n",
              "    <tr>\n",
              "      <th>459</th>\n",
              "      <td>165.0</td>\n",
              "      <td>128.5</td>\n",
              "      <td>132.1</td>\n",
              "      <td>175.1</td>\n",
              "      <td>8.1</td>\n",
              "      <td>1005.8</td>\n",
              "      <td>746.6</td>\n",
              "      <td>100</td>\n",
              "    </tr>\n",
              "    <tr>\n",
              "      <th>110</th>\n",
              "      <td>286.3</td>\n",
              "      <td>200.9</td>\n",
              "      <td>0.0</td>\n",
              "      <td>144.7</td>\n",
              "      <td>11.2</td>\n",
              "      <td>1004.6</td>\n",
              "      <td>803.7</td>\n",
              "      <td>7</td>\n",
              "    </tr>\n",
              "  </tbody>\n",
              "</table>\n",
              "<p>703 rows × 8 columns</p>\n",
              "</div>\n",
              "    <div class=\"colab-df-buttons\">\n",
              "\n",
              "  <div class=\"colab-df-container\">\n",
              "    <button class=\"colab-df-convert\" onclick=\"convertToInteractive('df-73cfa514-4f09-4d87-8a75-0043666e4641')\"\n",
              "            title=\"Convert this dataframe to an interactive table.\"\n",
              "            style=\"display:none;\">\n",
              "\n",
              "  <svg xmlns=\"http://www.w3.org/2000/svg\" height=\"24px\" viewBox=\"0 -960 960 960\">\n",
              "    <path d=\"M120-120v-720h720v720H120Zm60-500h600v-160H180v160Zm220 220h160v-160H400v160Zm0 220h160v-160H400v160ZM180-400h160v-160H180v160Zm440 0h160v-160H620v160ZM180-180h160v-160H180v160Zm440 0h160v-160H620v160Z\"/>\n",
              "  </svg>\n",
              "    </button>\n",
              "\n",
              "  <style>\n",
              "    .colab-df-container {\n",
              "      display:flex;\n",
              "      gap: 12px;\n",
              "    }\n",
              "\n",
              "    .colab-df-convert {\n",
              "      background-color: #E8F0FE;\n",
              "      border: none;\n",
              "      border-radius: 50%;\n",
              "      cursor: pointer;\n",
              "      display: none;\n",
              "      fill: #1967D2;\n",
              "      height: 32px;\n",
              "      padding: 0 0 0 0;\n",
              "      width: 32px;\n",
              "    }\n",
              "\n",
              "    .colab-df-convert:hover {\n",
              "      background-color: #E2EBFA;\n",
              "      box-shadow: 0px 1px 2px rgba(60, 64, 67, 0.3), 0px 1px 3px 1px rgba(60, 64, 67, 0.15);\n",
              "      fill: #174EA6;\n",
              "    }\n",
              "\n",
              "    .colab-df-buttons div {\n",
              "      margin-bottom: 4px;\n",
              "    }\n",
              "\n",
              "    [theme=dark] .colab-df-convert {\n",
              "      background-color: #3B4455;\n",
              "      fill: #D2E3FC;\n",
              "    }\n",
              "\n",
              "    [theme=dark] .colab-df-convert:hover {\n",
              "      background-color: #434B5C;\n",
              "      box-shadow: 0px 1px 3px 1px rgba(0, 0, 0, 0.15);\n",
              "      filter: drop-shadow(0px 1px 2px rgba(0, 0, 0, 0.3));\n",
              "      fill: #FFFFFF;\n",
              "    }\n",
              "  </style>\n",
              "\n",
              "    <script>\n",
              "      const buttonEl =\n",
              "        document.querySelector('#df-73cfa514-4f09-4d87-8a75-0043666e4641 button.colab-df-convert');\n",
              "      buttonEl.style.display =\n",
              "        google.colab.kernel.accessAllowed ? 'block' : 'none';\n",
              "\n",
              "      async function convertToInteractive(key) {\n",
              "        const element = document.querySelector('#df-73cfa514-4f09-4d87-8a75-0043666e4641');\n",
              "        const dataTable =\n",
              "          await google.colab.kernel.invokeFunction('convertToInteractive',\n",
              "                                                    [key], {});\n",
              "        if (!dataTable) return;\n",
              "\n",
              "        const docLinkHtml = 'Like what you see? Visit the ' +\n",
              "          '<a target=\"_blank\" href=https://colab.research.google.com/notebooks/data_table.ipynb>data table notebook</a>'\n",
              "          + ' to learn more about interactive tables.';\n",
              "        element.innerHTML = '';\n",
              "        dataTable['output_type'] = 'display_data';\n",
              "        await google.colab.output.renderOutput(dataTable, element);\n",
              "        const docLink = document.createElement('div');\n",
              "        docLink.innerHTML = docLinkHtml;\n",
              "        element.appendChild(docLink);\n",
              "      }\n",
              "    </script>\n",
              "  </div>\n",
              "\n",
              "\n",
              "<div id=\"df-272faee1-7055-46e2-9324-42896d7ad7b4\">\n",
              "  <button class=\"colab-df-quickchart\" onclick=\"quickchart('df-272faee1-7055-46e2-9324-42896d7ad7b4')\"\n",
              "            title=\"Suggest charts\"\n",
              "            style=\"display:none;\">\n",
              "\n",
              "<svg xmlns=\"http://www.w3.org/2000/svg\" height=\"24px\"viewBox=\"0 0 24 24\"\n",
              "     width=\"24px\">\n",
              "    <g>\n",
              "        <path d=\"M19 3H5c-1.1 0-2 .9-2 2v14c0 1.1.9 2 2 2h14c1.1 0 2-.9 2-2V5c0-1.1-.9-2-2-2zM9 17H7v-7h2v7zm4 0h-2V7h2v10zm4 0h-2v-4h2v4z\"/>\n",
              "    </g>\n",
              "</svg>\n",
              "  </button>\n",
              "\n",
              "<style>\n",
              "  .colab-df-quickchart {\n",
              "      --bg-color: #E8F0FE;\n",
              "      --fill-color: #1967D2;\n",
              "      --hover-bg-color: #E2EBFA;\n",
              "      --hover-fill-color: #174EA6;\n",
              "      --disabled-fill-color: #AAA;\n",
              "      --disabled-bg-color: #DDD;\n",
              "  }\n",
              "\n",
              "  [theme=dark] .colab-df-quickchart {\n",
              "      --bg-color: #3B4455;\n",
              "      --fill-color: #D2E3FC;\n",
              "      --hover-bg-color: #434B5C;\n",
              "      --hover-fill-color: #FFFFFF;\n",
              "      --disabled-bg-color: #3B4455;\n",
              "      --disabled-fill-color: #666;\n",
              "  }\n",
              "\n",
              "  .colab-df-quickchart {\n",
              "    background-color: var(--bg-color);\n",
              "    border: none;\n",
              "    border-radius: 50%;\n",
              "    cursor: pointer;\n",
              "    display: none;\n",
              "    fill: var(--fill-color);\n",
              "    height: 32px;\n",
              "    padding: 0;\n",
              "    width: 32px;\n",
              "  }\n",
              "\n",
              "  .colab-df-quickchart:hover {\n",
              "    background-color: var(--hover-bg-color);\n",
              "    box-shadow: 0 1px 2px rgba(60, 64, 67, 0.3), 0 1px 3px 1px rgba(60, 64, 67, 0.15);\n",
              "    fill: var(--button-hover-fill-color);\n",
              "  }\n",
              "\n",
              "  .colab-df-quickchart-complete:disabled,\n",
              "  .colab-df-quickchart-complete:disabled:hover {\n",
              "    background-color: var(--disabled-bg-color);\n",
              "    fill: var(--disabled-fill-color);\n",
              "    box-shadow: none;\n",
              "  }\n",
              "\n",
              "  .colab-df-spinner {\n",
              "    border: 2px solid var(--fill-color);\n",
              "    border-color: transparent;\n",
              "    border-bottom-color: var(--fill-color);\n",
              "    animation:\n",
              "      spin 1s steps(1) infinite;\n",
              "  }\n",
              "\n",
              "  @keyframes spin {\n",
              "    0% {\n",
              "      border-color: transparent;\n",
              "      border-bottom-color: var(--fill-color);\n",
              "      border-left-color: var(--fill-color);\n",
              "    }\n",
              "    20% {\n",
              "      border-color: transparent;\n",
              "      border-left-color: var(--fill-color);\n",
              "      border-top-color: var(--fill-color);\n",
              "    }\n",
              "    30% {\n",
              "      border-color: transparent;\n",
              "      border-left-color: var(--fill-color);\n",
              "      border-top-color: var(--fill-color);\n",
              "      border-right-color: var(--fill-color);\n",
              "    }\n",
              "    40% {\n",
              "      border-color: transparent;\n",
              "      border-right-color: var(--fill-color);\n",
              "      border-top-color: var(--fill-color);\n",
              "    }\n",
              "    60% {\n",
              "      border-color: transparent;\n",
              "      border-right-color: var(--fill-color);\n",
              "    }\n",
              "    80% {\n",
              "      border-color: transparent;\n",
              "      border-right-color: var(--fill-color);\n",
              "      border-bottom-color: var(--fill-color);\n",
              "    }\n",
              "    90% {\n",
              "      border-color: transparent;\n",
              "      border-bottom-color: var(--fill-color);\n",
              "    }\n",
              "  }\n",
              "</style>\n",
              "\n",
              "  <script>\n",
              "    async function quickchart(key) {\n",
              "      const quickchartButtonEl =\n",
              "        document.querySelector('#' + key + ' button');\n",
              "      quickchartButtonEl.disabled = true;  // To prevent multiple clicks.\n",
              "      quickchartButtonEl.classList.add('colab-df-spinner');\n",
              "      try {\n",
              "        const charts = await google.colab.kernel.invokeFunction(\n",
              "            'suggestCharts', [key], {});\n",
              "      } catch (error) {\n",
              "        console.error('Error during call to suggestCharts:', error);\n",
              "      }\n",
              "      quickchartButtonEl.classList.remove('colab-df-spinner');\n",
              "      quickchartButtonEl.classList.add('colab-df-quickchart-complete');\n",
              "    }\n",
              "    (() => {\n",
              "      let quickchartButtonEl =\n",
              "        document.querySelector('#df-272faee1-7055-46e2-9324-42896d7ad7b4 button');\n",
              "      quickchartButtonEl.style.display =\n",
              "        google.colab.kernel.accessAllowed ? 'block' : 'none';\n",
              "    })();\n",
              "  </script>\n",
              "</div>\n",
              "    </div>\n",
              "  </div>\n"
            ],
            "text/plain": [
              "     Cement  Blast Furnace Slag  Fly Ash  Water  Superplasticizer  \\\n",
              "567   203.5               135.7      0.0  185.7               0.0   \n",
              "466   190.3                 0.0    125.2  166.6               9.9   \n",
              "845   321.0               164.0      0.0  190.0               5.0   \n",
              "422   167.4               129.9    128.6  175.5               7.8   \n",
              "984   154.8                 0.0    142.8  193.3               9.1   \n",
              "..      ...                 ...      ...    ...               ...   \n",
              "115   337.9               189.0      0.0  174.9               9.5   \n",
              "294   168.9                42.2    124.3  158.3              10.8   \n",
              "885   153.0               145.0    113.0  178.0               8.0   \n",
              "459   165.0               128.5    132.1  175.1               8.1   \n",
              "110   286.3               200.9      0.0  144.7              11.2   \n",
              "\n",
              "     Coarse Aggregate  Fine Aggregate  Age  \n",
              "567            1076.2           759.3    7  \n",
              "466            1079.0           798.9  100  \n",
              "845             870.0           774.0   28  \n",
              "422            1006.3           746.6   14  \n",
              "984             877.2           867.7   28  \n",
              "..                ...             ...  ...  \n",
              "115             944.7           755.8    7  \n",
              "294            1080.8           796.2    3  \n",
              "885             867.0           824.0   28  \n",
              "459            1005.8           746.6  100  \n",
              "110            1004.6           803.7    7  \n",
              "\n",
              "[703 rows x 8 columns]"
            ]
          },
          "execution_count": 16,
          "metadata": {},
          "output_type": "execute_result"
        }
      ],
      "source": [
        "x_train_scaled"
      ]
    },
    {
      "cell_type": "code",
      "execution_count": 17,
      "metadata": {
        "id": "uCoDYrv6QHLL"
      },
      "outputs": [],
      "source": [
        "from sklearn.preprocessing import RobustScaler # because there are some outliers\n",
        "\n",
        "RS = RobustScaler()\n",
        "\n",
        "x_train_scaled = RS.fit_transform(x_train_scaled)\n",
        "x_val_scaled = RS.transform(x_val_scaled)\n",
        "x_test_scaled = RS.transform(x_test_scaled)"
      ]
    },
    {
      "cell_type": "markdown",
      "metadata": {
        "id": "pdmD_79dNuEe"
      },
      "source": [
        "I scaled the data using robust scaler to handle the outlier as well as because a lot of variable in the data are not normal distribution. Moreover, RobustScaler is designed to handle outliers robustly by scaling features based on median and interquartile range, thus it is less sensitive to outliers"
      ]
    },
    {
      "cell_type": "markdown",
      "metadata": {
        "id": "i8KJRSgKSOEV"
      },
      "source": [
        "## Normalize the Data"
      ]
    },
    {
      "cell_type": "code",
      "execution_count": 18,
      "metadata": {
        "id": "1o_wSmJ0SQyI"
      },
      "outputs": [],
      "source": [
        "normalizer = tf.keras.layers.Normalization(axis=-1)"
      ]
    },
    {
      "cell_type": "code",
      "execution_count": 19,
      "metadata": {
        "id": "q0g7HbX9STlu"
      },
      "outputs": [],
      "source": [
        "normalizer.adapt(np.array(x_train))"
      ]
    },
    {
      "cell_type": "markdown",
      "metadata": {
        "id": "5zd0jC0qNvNn"
      },
      "source": [
        "In the end, I choose this method to normalize the data for it not onlt creates the best model out of the other type of scaling, it also help in improving the convergence speed and stability of optimization algorithms. If we look at the boxplot, the outliers number are actually not that big, thus, I think it is ok for us to just use normalization"
      ]
    },
    {
      "cell_type": "markdown",
      "metadata": {
        "id": "eYGVPNL2RyHp"
      },
      "source": [
        "## Create Tensor Dataset"
      ]
    },
    {
      "cell_type": "code",
      "execution_count": 20,
      "metadata": {
        "id": "D1Bct-_ESAnE"
      },
      "outputs": [],
      "source": [
        "train_ds = tf.data.Dataset.from_tensor_slices((x_train, y_train)).batch(32).shuffle(10)\n",
        "test_ds = tf.data.Dataset.from_tensor_slices((x_test, y_test)).batch(32).shuffle(10)\n",
        "val_ds = tf.data.Dataset.from_tensor_slices((x_val, y_val)).batch(32).shuffle(10)"
      ]
    },
    {
      "cell_type": "code",
      "execution_count": 21,
      "metadata": {
        "colab": {
          "base_uri": "https://localhost:8080/"
        },
        "id": "69t9QobESKsG",
        "outputId": "f4409824-2f8a-4ce7-bdaa-e946c3249bde"
      },
      "outputs": [
        {
          "data": {
            "text/plain": [
              "<_ShuffleDataset element_spec=(TensorSpec(shape=(None, 8), dtype=tf.float64, name=None), TensorSpec(shape=(None,), dtype=tf.float64, name=None))>"
            ]
          },
          "execution_count": 21,
          "metadata": {},
          "output_type": "execute_result"
        }
      ],
      "source": [
        "train_ds"
      ]
    },
    {
      "cell_type": "markdown",
      "metadata": {
        "id": "7sCc2WZ9SZlP"
      },
      "source": [
        "## Modelling"
      ]
    },
    {
      "cell_type": "markdown",
      "metadata": {
        "id": "g5Ytds6XSc8C"
      },
      "source": [
        "### Sequential"
      ]
    },
    {
      "cell_type": "code",
      "execution_count": 22,
      "metadata": {
        "id": "Z-0uKqn9TFUY"
      },
      "outputs": [],
      "source": [
        "from tensorflow.keras.layers import Dense\n",
        "from tensorflow.keras.models import Sequential, Model"
      ]
    },
    {
      "cell_type": "code",
      "execution_count": 23,
      "metadata": {
        "colab": {
          "base_uri": "https://localhost:8080/"
        },
        "id": "WgIBvEpISWVU",
        "outputId": "c586cd8d-ecf0-44e0-99cb-0dc6777e8017"
      },
      "outputs": [
        {
          "name": "stdout",
          "output_type": "stream",
          "text": [
            "Model: \"sequential\"\n",
            "_________________________________________________________________\n",
            " Layer (type)                Output Shape              Param #   \n",
            "=================================================================\n",
            " normalization (Normalizati  (None, 8)                 17        \n",
            " on)                                                             \n",
            "                                                                 \n",
            " dense (Dense)               (None, 13)                117       \n",
            "                                                                 \n",
            " dense_1 (Dense)             (None, 6)                 84        \n",
            "                                                                 \n",
            " dense_2 (Dense)             (None, 1)                 7         \n",
            "                                                                 \n",
            "=================================================================\n",
            "Total params: 225 (904.00 Byte)\n",
            "Trainable params: 208 (832.00 Byte)\n",
            "Non-trainable params: 17 (72.00 Byte)\n",
            "_________________________________________________________________\n"
          ]
        }
      ],
      "source": [
        "sequential = Sequential([\n",
        "    normalizer,\n",
        "    Dense(13, activation='relu', input_shape=(8,)),\n",
        "    Dense(6, activation='relu'),\n",
        "    Dense(1, activation='linear')\n",
        "])\n",
        "\n",
        "sequential.summary()"
      ]
    },
    {
      "cell_type": "code",
      "execution_count": 24,
      "metadata": {
        "colab": {
          "base_uri": "https://localhost:8080/",
          "height": 466
        },
        "id": "DkXY6lwHTrDy",
        "outputId": "d8737538-6dd7-4e11-d858-1d0b845bc243"
      },
      "outputs": [
        {
          "data": {
            "image/png": "[encoded data removed]",
            "text/plain": [
              "<IPython.core.display.Image object>"
            ]
          },
          "execution_count": 24,
          "metadata": {},
          "output_type": "execute_result"
        }
      ],
      "source": [
        "from tensorflow.keras.utils import plot_model\n",
        "\n",
        "plot_model(sequential)"
      ]
    },
    {
      "cell_type": "code",
      "execution_count": 25,
      "metadata": {
        "id": "k_0-RvH0XlMH"
      },
      "outputs": [],
      "source": [
        "sequential.compile(loss=[\"mean_squared_error\"], optimizer=tf.keras.optimizers.Adam(learning_rate=0.1), metrics=[\"mean_squared_error\"])"
      ]
    },
    {
      "cell_type": "markdown",
      "metadata": {
        "id": "dfLm14PHYvMr"
      },
      "source": [
        "#### Callback Function (No 3)"
      ]
    },
    {
      "cell_type": "code",
      "execution_count": 26,
      "metadata": {
        "id": "6mVLBMLAYuky"
      },
      "outputs": [],
      "source": [
        "from tensorflow.keras.callbacks import ReduceLROnPlateau\n",
        "\n",
        "callback = ReduceLROnPlateau(monitor='val_loss', factor=0.7, patience=10, min_lr=1e-6)"
      ]
    },
    {
      "cell_type": "markdown",
      "metadata": {
        "id": "gDsckFSbZeBM"
      },
      "source": [
        " The callback function above will reduce the learning rate by a factor of 0.2 if the validation loss does not improve for 5 consecutive epochs, with the minimum learning rate set to 1e-6."
      ]
    },
    {
      "cell_type": "markdown",
      "metadata": {
        "id": "2v28ghVwX1_N"
      },
      "source": [
        "#### Fit the Model"
      ]
    },
    {
      "cell_type": "code",
      "execution_count": 27,
      "metadata": {
        "colab": {
          "base_uri": "https://localhost:8080/"
        },
        "id": "Kr0kShAnX0If",
        "outputId": "20d1fb7e-1573-4b8c-c30a-5912534ba1e1"
      },
      "outputs": [
        {
          "name": "stdout",
          "output_type": "stream",
          "text": [
            "Epoch 1/150\n",
            "22/22 [==============================] - 1s 11ms/step - loss: 583.3234 - mean_squared_error: 583.3234 - val_loss: 257.1445 - val_mean_squared_error: 257.1445 - lr: 0.1000\n",
            "Epoch 2/150\n",
            "22/22 [==============================] - 0s 3ms/step - loss: 162.5488 - mean_squared_error: 162.5488 - val_loss: 173.5663 - val_mean_squared_error: 173.5663 - lr: 0.1000\n",
            "Epoch 3/150\n",
            "22/22 [==============================] - 0s 3ms/step - loss: 133.0481 - mean_squared_error: 133.0481 - val_loss: 158.8107 - val_mean_squared_error: 158.8107 - lr: 0.1000\n",
            "Epoch 4/150\n",
            "22/22 [==============================] - 0s 3ms/step - loss: 122.2244 - mean_squared_error: 122.2244 - val_loss: 156.8731 - val_mean_squared_error: 156.8731 - lr: 0.1000\n",
            "Epoch 5/150\n",
            "22/22 [==============================] - 0s 3ms/step - loss: 108.8330 - mean_squared_error: 108.8330 - val_loss: 127.4199 - val_mean_squared_error: 127.4199 - lr: 0.1000\n",
            "Epoch 6/150\n",
            "22/22 [==============================] - 0s 3ms/step - loss: 89.6443 - mean_squared_error: 89.6443 - val_loss: 112.5025 - val_mean_squared_error: 112.5025 - lr: 0.1000\n",
            "Epoch 7/150\n",
            "22/22 [==============================] - 0s 3ms/step - loss: 89.1775 - mean_squared_error: 89.1775 - val_loss: 123.7607 - val_mean_squared_error: 123.7607 - lr: 0.1000\n",
            "Epoch 8/150\n",
            "22/22 [==============================] - 0s 3ms/step - loss: 71.2473 - mean_squared_error: 71.2473 - val_loss: 98.8619 - val_mean_squared_error: 98.8619 - lr: 0.1000\n",
            "Epoch 9/150\n",
            "22/22 [==============================] - 0s 3ms/step - loss: 66.6690 - mean_squared_error: 66.6690 - val_loss: 88.8537 - val_mean_squared_error: 88.8537 - lr: 0.1000\n",
            "Epoch 10/150\n",
            "22/22 [==============================] - 0s 3ms/step - loss: 58.9885 - mean_squared_error: 58.9885 - val_loss: 86.3746 - val_mean_squared_error: 86.3746 - lr: 0.1000\n",
            "Epoch 11/150\n",
            "22/22 [==============================] - 0s 3ms/step - loss: 59.8759 - mean_squared_error: 59.8759 - val_loss: 79.9335 - val_mean_squared_error: 79.9335 - lr: 0.1000\n",
            "Epoch 12/150\n",
            "22/22 [==============================] - 0s 3ms/step - loss: 57.5639 - mean_squared_error: 57.5639 - val_loss: 75.3100 - val_mean_squared_error: 75.3100 - lr: 0.1000\n",
            "Epoch 13/150\n",
            "22/22 [==============================] - 0s 3ms/step - loss: 55.2767 - mean_squared_error: 55.2767 - val_loss: 72.5681 - val_mean_squared_error: 72.5681 - lr: 0.1000\n",
            "Epoch 14/150\n",
            "22/22 [==============================] - 0s 3ms/step - loss: 49.0011 - mean_squared_error: 49.0011 - val_loss: 70.4377 - val_mean_squared_error: 70.4377 - lr: 0.1000\n",
            "Epoch 15/150\n",
            "22/22 [==============================] - 0s 4ms/step - loss: 55.9293 - mean_squared_error: 55.9293 - val_loss: 91.0409 - val_mean_squared_error: 91.0409 - lr: 0.1000\n",
            "Epoch 16/150\n",
            "22/22 [==============================] - 0s 3ms/step - loss: 63.7963 - mean_squared_error: 63.7963 - val_loss: 79.7343 - val_mean_squared_error: 79.7343 - lr: 0.1000\n",
            "Epoch 17/150\n",
            "22/22 [==============================] - 0s 3ms/step - loss: 50.0070 - mean_squared_error: 50.0070 - val_loss: 68.6245 - val_mean_squared_error: 68.6245 - lr: 0.1000\n",
            "Epoch 18/150\n",
            "22/22 [==============================] - 0s 3ms/step - loss: 62.6448 - mean_squared_error: 62.6448 - val_loss: 66.4201 - val_mean_squared_error: 66.4201 - lr: 0.1000\n",
            "Epoch 19/150\n",
            "22/22 [==============================] - 0s 3ms/step - loss: 60.8700 - mean_squared_error: 60.8700 - val_loss: 66.7591 - val_mean_squared_error: 66.7591 - lr: 0.1000\n",
            "Epoch 20/150\n",
            "22/22 [==============================] - 0s 3ms/step - loss: 48.8383 - mean_squared_error: 48.8383 - val_loss: 69.9960 - val_mean_squared_error: 69.9960 - lr: 0.1000\n",
            "Epoch 21/150\n",
            "22/22 [==============================] - 0s 3ms/step - loss: 56.4832 - mean_squared_error: 56.4832 - val_loss: 67.8261 - val_mean_squared_error: 67.8261 - lr: 0.1000\n",
            "Epoch 22/150\n",
            "22/22 [==============================] - 0s 3ms/step - loss: 52.4098 - mean_squared_error: 52.4098 - val_loss: 70.9201 - val_mean_squared_error: 70.9201 - lr: 0.1000\n",
            "Epoch 23/150\n",
            "22/22 [==============================] - 0s 3ms/step - loss: 54.7325 - mean_squared_error: 54.7325 - val_loss: 60.4286 - val_mean_squared_error: 60.4286 - lr: 0.1000\n",
            "Epoch 24/150\n",
            "22/22 [==============================] - 0s 4ms/step - loss: 50.5033 - mean_squared_error: 50.5033 - val_loss: 83.2807 - val_mean_squared_error: 83.2807 - lr: 0.1000\n",
            "Epoch 25/150\n",
            "22/22 [==============================] - 0s 3ms/step - loss: 52.6784 - mean_squared_error: 52.6784 - val_loss: 71.3094 - val_mean_squared_error: 71.3094 - lr: 0.1000\n",
            "Epoch 26/150\n",
            "22/22 [==============================] - 0s 3ms/step - loss: 43.8667 - mean_squared_error: 43.8667 - val_loss: 58.0761 - val_mean_squared_error: 58.0761 - lr: 0.1000\n",
            "Epoch 27/150\n",
            "22/22 [==============================] - 0s 3ms/step - loss: 50.4944 - mean_squared_error: 50.4944 - val_loss: 69.2219 - val_mean_squared_error: 69.2219 - lr: 0.1000\n",
            "Epoch 28/150\n",
            "22/22 [==============================] - 0s 9ms/step - loss: 48.8327 - mean_squared_error: 48.8327 - val_loss: 81.7380 - val_mean_squared_error: 81.7380 - lr: 0.1000\n",
            "Epoch 29/150\n",
            "22/22 [==============================] - 0s 6ms/step - loss: 86.3016 - mean_squared_error: 86.3016 - val_loss: 75.9032 - val_mean_squared_error: 75.9032 - lr: 0.1000\n",
            "Epoch 30/150\n",
            "22/22 [==============================] - 0s 5ms/step - loss: 52.1482 - mean_squared_error: 52.1482 - val_loss: 65.8625 - val_mean_squared_error: 65.8625 - lr: 0.1000\n",
            "Epoch 31/150\n",
            "22/22 [==============================] - 0s 3ms/step - loss: 41.7585 - mean_squared_error: 41.7585 - val_loss: 56.2079 - val_mean_squared_error: 56.2079 - lr: 0.1000\n",
            "Epoch 32/150\n",
            "22/22 [==============================] - 0s 3ms/step - loss: 43.0986 - mean_squared_error: 43.0986 - val_loss: 64.4199 - val_mean_squared_error: 64.4199 - lr: 0.1000\n",
            "Epoch 33/150\n",
            "22/22 [==============================] - 0s 3ms/step - loss: 45.1332 - mean_squared_error: 45.1332 - val_loss: 71.9011 - val_mean_squared_error: 71.9011 - lr: 0.1000\n",
            "Epoch 34/150\n",
            "22/22 [==============================] - 0s 14ms/step - loss: 58.2796 - mean_squared_error: 58.2796 - val_loss: 68.5552 - val_mean_squared_error: 68.5552 - lr: 0.1000\n",
            "Epoch 35/150\n",
            "22/22 [==============================] - 0s 9ms/step - loss: 55.4363 - mean_squared_error: 55.4363 - val_loss: 60.4923 - val_mean_squared_error: 60.4923 - lr: 0.1000\n",
            "Epoch 36/150\n",
            "22/22 [==============================] - 0s 6ms/step - loss: 49.7130 - mean_squared_error: 49.7130 - val_loss: 54.5950 - val_mean_squared_error: 54.5950 - lr: 0.1000\n",
            "Epoch 37/150\n",
            "22/22 [==============================] - 0s 3ms/step - loss: 41.0693 - mean_squared_error: 41.0693 - val_loss: 60.2451 - val_mean_squared_error: 60.2451 - lr: 0.1000\n",
            "Epoch 38/150\n",
            "22/22 [==============================] - 0s 3ms/step - loss: 40.4036 - mean_squared_error: 40.4036 - val_loss: 54.6454 - val_mean_squared_error: 54.6454 - lr: 0.1000\n",
            "Epoch 39/150\n",
            "22/22 [==============================] - 0s 3ms/step - loss: 36.5984 - mean_squared_error: 36.5984 - val_loss: 56.0819 - val_mean_squared_error: 56.0819 - lr: 0.1000\n",
            "Epoch 40/150\n",
            "22/22 [==============================] - 0s 3ms/step - loss: 47.5687 - mean_squared_error: 47.5687 - val_loss: 95.4787 - val_mean_squared_error: 95.4787 - lr: 0.1000\n",
            "Epoch 41/150\n",
            "22/22 [==============================] - 0s 3ms/step - loss: 51.3392 - mean_squared_error: 51.3392 - val_loss: 104.1408 - val_mean_squared_error: 104.1408 - lr: 0.1000\n",
            "Epoch 42/150\n",
            "22/22 [==============================] - 0s 3ms/step - loss: 51.9685 - mean_squared_error: 51.9685 - val_loss: 78.6487 - val_mean_squared_error: 78.6487 - lr: 0.1000\n",
            "Epoch 43/150\n",
            "22/22 [==============================] - 0s 3ms/step - loss: 48.5742 - mean_squared_error: 48.5742 - val_loss: 52.5832 - val_mean_squared_error: 52.5832 - lr: 0.1000\n",
            "Epoch 44/150\n",
            "22/22 [==============================] - 0s 3ms/step - loss: 39.8145 - mean_squared_error: 39.8145 - val_loss: 57.7347 - val_mean_squared_error: 57.7347 - lr: 0.1000\n",
            "Epoch 45/150\n",
            "22/22 [==============================] - 0s 3ms/step - loss: 39.6031 - mean_squared_error: 39.6031 - val_loss: 58.6324 - val_mean_squared_error: 58.6324 - lr: 0.1000\n",
            "Epoch 46/150\n",
            "22/22 [==============================] - 0s 3ms/step - loss: 35.5577 - mean_squared_error: 35.5577 - val_loss: 59.9359 - val_mean_squared_error: 59.9359 - lr: 0.1000\n",
            "Epoch 47/150\n",
            "22/22 [==============================] - 0s 3ms/step - loss: 42.8180 - mean_squared_error: 42.8180 - val_loss: 64.5099 - val_mean_squared_error: 64.5099 - lr: 0.1000\n",
            "Epoch 48/150\n",
            "22/22 [==============================] - 0s 3ms/step - loss: 47.2141 - mean_squared_error: 47.2141 - val_loss: 58.5834 - val_mean_squared_error: 58.5834 - lr: 0.1000\n",
            "Epoch 49/150\n",
            "22/22 [==============================] - 0s 3ms/step - loss: 38.9728 - mean_squared_error: 38.9728 - val_loss: 62.2747 - val_mean_squared_error: 62.2747 - lr: 0.1000\n",
            "Epoch 50/150\n",
            "22/22 [==============================] - 0s 3ms/step - loss: 36.9767 - mean_squared_error: 36.9767 - val_loss: 57.9717 - val_mean_squared_error: 57.9717 - lr: 0.1000\n",
            "Epoch 51/150\n",
            "22/22 [==============================] - 0s 3ms/step - loss: 38.4197 - mean_squared_error: 38.4197 - val_loss: 56.0778 - val_mean_squared_error: 56.0778 - lr: 0.1000\n",
            "Epoch 52/150\n",
            "22/22 [==============================] - 0s 4ms/step - loss: 33.9238 - mean_squared_error: 33.9238 - val_loss: 53.2396 - val_mean_squared_error: 53.2396 - lr: 0.1000\n",
            "Epoch 53/150\n",
            "22/22 [==============================] - 0s 3ms/step - loss: 36.1266 - mean_squared_error: 36.1266 - val_loss: 55.9352 - val_mean_squared_error: 55.9352 - lr: 0.1000\n",
            "Epoch 54/150\n",
            "22/22 [==============================] - 0s 3ms/step - loss: 35.4707 - mean_squared_error: 35.4707 - val_loss: 58.0215 - val_mean_squared_error: 58.0215 - lr: 0.0700\n",
            "Epoch 55/150\n",
            "22/22 [==============================] - 0s 3ms/step - loss: 35.6145 - mean_squared_error: 35.6145 - val_loss: 50.1396 - val_mean_squared_error: 50.1396 - lr: 0.0700\n",
            "Epoch 56/150\n",
            "22/22 [==============================] - 0s 3ms/step - loss: 35.8013 - mean_squared_error: 35.8013 - val_loss: 60.7816 - val_mean_squared_error: 60.7816 - lr: 0.0700\n",
            "Epoch 57/150\n",
            "22/22 [==============================] - 0s 3ms/step - loss: 39.5704 - mean_squared_error: 39.5704 - val_loss: 52.9089 - val_mean_squared_error: 52.9089 - lr: 0.0700\n",
            "Epoch 58/150\n",
            "22/22 [==============================] - 0s 3ms/step - loss: 36.7636 - mean_squared_error: 36.7636 - val_loss: 57.0536 - val_mean_squared_error: 57.0536 - lr: 0.0700\n",
            "Epoch 59/150\n",
            "22/22 [==============================] - 0s 3ms/step - loss: 36.3090 - mean_squared_error: 36.3090 - val_loss: 57.3566 - val_mean_squared_error: 57.3566 - lr: 0.0700\n",
            "Epoch 60/150\n",
            "22/22 [==============================] - 0s 3ms/step - loss: 36.9490 - mean_squared_error: 36.9490 - val_loss: 51.7015 - val_mean_squared_error: 51.7015 - lr: 0.0700\n",
            "Epoch 61/150\n",
            "22/22 [==============================] - 0s 3ms/step - loss: 39.6950 - mean_squared_error: 39.6950 - val_loss: 53.8358 - val_mean_squared_error: 53.8358 - lr: 0.0700\n",
            "Epoch 62/150\n",
            "22/22 [==============================] - 0s 3ms/step - loss: 35.0341 - mean_squared_error: 35.0341 - val_loss: 55.5008 - val_mean_squared_error: 55.5008 - lr: 0.0700\n",
            "Epoch 63/150\n",
            "22/22 [==============================] - 0s 3ms/step - loss: 33.4534 - mean_squared_error: 33.4534 - val_loss: 53.1830 - val_mean_squared_error: 53.1830 - lr: 0.0700\n",
            "Epoch 64/150\n",
            "22/22 [==============================] - 0s 3ms/step - loss: 37.2470 - mean_squared_error: 37.2470 - val_loss: 64.3663 - val_mean_squared_error: 64.3663 - lr: 0.0700\n",
            "Epoch 65/150\n",
            "22/22 [==============================] - 0s 3ms/step - loss: 32.1841 - mean_squared_error: 32.1841 - val_loss: 56.3129 - val_mean_squared_error: 56.3129 - lr: 0.0700\n",
            "Epoch 66/150\n",
            "22/22 [==============================] - 0s 3ms/step - loss: 33.0830 - mean_squared_error: 33.0830 - val_loss: 51.3168 - val_mean_squared_error: 51.3168 - lr: 0.0490\n",
            "Epoch 67/150\n",
            "22/22 [==============================] - 0s 3ms/step - loss: 34.9061 - mean_squared_error: 34.9061 - val_loss: 59.8840 - val_mean_squared_error: 59.8840 - lr: 0.0490\n",
            "Epoch 68/150\n",
            "22/22 [==============================] - 0s 3ms/step - loss: 32.4141 - mean_squared_error: 32.4141 - val_loss: 53.5294 - val_mean_squared_error: 53.5294 - lr: 0.0490\n",
            "Epoch 69/150\n",
            "22/22 [==============================] - 0s 3ms/step - loss: 34.9608 - mean_squared_error: 34.9608 - val_loss: 65.7403 - val_mean_squared_error: 65.7403 - lr: 0.0490\n",
            "Epoch 70/150\n",
            "22/22 [==============================] - 0s 3ms/step - loss: 34.1243 - mean_squared_error: 34.1243 - val_loss: 54.4204 - val_mean_squared_error: 54.4204 - lr: 0.0490\n",
            "Epoch 71/150\n",
            "22/22 [==============================] - 0s 3ms/step - loss: 31.2770 - mean_squared_error: 31.2770 - val_loss: 51.5822 - val_mean_squared_error: 51.5822 - lr: 0.0490\n",
            "Epoch 72/150\n",
            "22/22 [==============================] - 0s 3ms/step - loss: 32.3494 - mean_squared_error: 32.3494 - val_loss: 55.5170 - val_mean_squared_error: 55.5170 - lr: 0.0490\n",
            "Epoch 73/150\n",
            "22/22 [==============================] - 0s 3ms/step - loss: 35.8414 - mean_squared_error: 35.8414 - val_loss: 51.4546 - val_mean_squared_error: 51.4546 - lr: 0.0490\n",
            "Epoch 74/150\n",
            "22/22 [==============================] - 0s 3ms/step - loss: 30.5762 - mean_squared_error: 30.5762 - val_loss: 48.4562 - val_mean_squared_error: 48.4562 - lr: 0.0490\n",
            "Epoch 75/150\n",
            "22/22 [==============================] - 0s 3ms/step - loss: 30.6801 - mean_squared_error: 30.6801 - val_loss: 53.0792 - val_mean_squared_error: 53.0792 - lr: 0.0490\n",
            "Epoch 76/150\n",
            "22/22 [==============================] - 0s 5ms/step - loss: 32.6845 - mean_squared_error: 32.6845 - val_loss: 54.4201 - val_mean_squared_error: 54.4201 - lr: 0.0490\n",
            "Epoch 77/150\n",
            "22/22 [==============================] - 0s 5ms/step - loss: 32.7842 - mean_squared_error: 32.7842 - val_loss: 55.3399 - val_mean_squared_error: 55.3399 - lr: 0.0490\n",
            "Epoch 78/150\n",
            "22/22 [==============================] - 0s 5ms/step - loss: 31.0279 - mean_squared_error: 31.0279 - val_loss: 51.1899 - val_mean_squared_error: 51.1899 - lr: 0.0490\n",
            "Epoch 79/150\n",
            "22/22 [==============================] - 0s 5ms/step - loss: 31.7252 - mean_squared_error: 31.7252 - val_loss: 49.8878 - val_mean_squared_error: 49.8878 - lr: 0.0490\n",
            "Epoch 80/150\n",
            "22/22 [==============================] - 0s 4ms/step - loss: 34.8480 - mean_squared_error: 34.8480 - val_loss: 62.3480 - val_mean_squared_error: 62.3480 - lr: 0.0490\n",
            "Epoch 81/150\n",
            "22/22 [==============================] - 0s 5ms/step - loss: 32.7860 - mean_squared_error: 32.7860 - val_loss: 56.6775 - val_mean_squared_error: 56.6775 - lr: 0.0490\n",
            "Epoch 82/150\n",
            "22/22 [==============================] - 0s 5ms/step - loss: 31.3002 - mean_squared_error: 31.3002 - val_loss: 59.8552 - val_mean_squared_error: 59.8552 - lr: 0.0490\n",
            "Epoch 83/150\n",
            "22/22 [==============================] - 0s 4ms/step - loss: 35.6237 - mean_squared_error: 35.6237 - val_loss: 53.9624 - val_mean_squared_error: 53.9624 - lr: 0.0490\n",
            "Epoch 84/150\n",
            "22/22 [==============================] - 0s 5ms/step - loss: 30.9498 - mean_squared_error: 30.9498 - val_loss: 57.0118 - val_mean_squared_error: 57.0118 - lr: 0.0490\n",
            "Epoch 85/150\n",
            "22/22 [==============================] - 0s 5ms/step - loss: 32.6808 - mean_squared_error: 32.6808 - val_loss: 51.7441 - val_mean_squared_error: 51.7441 - lr: 0.0343\n",
            "Epoch 86/150\n",
            "22/22 [==============================] - 0s 4ms/step - loss: 30.4164 - mean_squared_error: 30.4164 - val_loss: 52.1500 - val_mean_squared_error: 52.1500 - lr: 0.0343\n",
            "Epoch 87/150\n",
            "22/22 [==============================] - 0s 5ms/step - loss: 30.6031 - mean_squared_error: 30.6031 - val_loss: 54.1533 - val_mean_squared_error: 54.1533 - lr: 0.0343\n",
            "Epoch 88/150\n",
            "22/22 [==============================] - 0s 4ms/step - loss: 30.4392 - mean_squared_error: 30.4392 - val_loss: 50.9802 - val_mean_squared_error: 50.9802 - lr: 0.0343\n",
            "Epoch 89/150\n",
            "22/22 [==============================] - 0s 5ms/step - loss: 29.0715 - mean_squared_error: 29.0715 - val_loss: 51.3078 - val_mean_squared_error: 51.3078 - lr: 0.0343\n",
            "Epoch 90/150\n",
            "22/22 [==============================] - 0s 5ms/step - loss: 32.2637 - mean_squared_error: 32.2637 - val_loss: 53.4185 - val_mean_squared_error: 53.4185 - lr: 0.0343\n",
            "Epoch 91/150\n",
            "22/22 [==============================] - 0s 3ms/step - loss: 30.5009 - mean_squared_error: 30.5009 - val_loss: 49.9113 - val_mean_squared_error: 49.9113 - lr: 0.0343\n",
            "Epoch 92/150\n",
            "22/22 [==============================] - 0s 3ms/step - loss: 30.9384 - mean_squared_error: 30.9384 - val_loss: 48.6737 - val_mean_squared_error: 48.6737 - lr: 0.0343\n",
            "Epoch 93/150\n",
            "22/22 [==============================] - 0s 3ms/step - loss: 29.1094 - mean_squared_error: 29.1094 - val_loss: 51.9407 - val_mean_squared_error: 51.9407 - lr: 0.0343\n",
            "Epoch 94/150\n",
            "22/22 [==============================] - 0s 3ms/step - loss: 28.2514 - mean_squared_error: 28.2514 - val_loss: 49.0600 - val_mean_squared_error: 49.0600 - lr: 0.0343\n",
            "Epoch 95/150\n",
            "22/22 [==============================] - 0s 3ms/step - loss: 28.4799 - mean_squared_error: 28.4799 - val_loss: 49.4008 - val_mean_squared_error: 49.4008 - lr: 0.0240\n",
            "Epoch 96/150\n",
            "22/22 [==============================] - 0s 3ms/step - loss: 30.0216 - mean_squared_error: 30.0216 - val_loss: 51.4224 - val_mean_squared_error: 51.4224 - lr: 0.0240\n",
            "Epoch 97/150\n",
            "22/22 [==============================] - 0s 3ms/step - loss: 28.9176 - mean_squared_error: 28.9176 - val_loss: 48.6932 - val_mean_squared_error: 48.6932 - lr: 0.0240\n",
            "Epoch 98/150\n",
            "22/22 [==============================] - 0s 3ms/step - loss: 29.8961 - mean_squared_error: 29.8961 - val_loss: 50.1377 - val_mean_squared_error: 50.1377 - lr: 0.0240\n",
            "Epoch 99/150\n",
            "22/22 [==============================] - 0s 3ms/step - loss: 29.0178 - mean_squared_error: 29.0178 - val_loss: 52.5269 - val_mean_squared_error: 52.5269 - lr: 0.0240\n",
            "Epoch 100/150\n",
            "22/22 [==============================] - 0s 3ms/step - loss: 28.6182 - mean_squared_error: 28.6182 - val_loss: 51.7143 - val_mean_squared_error: 51.7143 - lr: 0.0240\n",
            "Epoch 101/150\n",
            "22/22 [==============================] - 0s 3ms/step - loss: 28.3116 - mean_squared_error: 28.3116 - val_loss: 51.7197 - val_mean_squared_error: 51.7197 - lr: 0.0240\n",
            "Epoch 102/150\n",
            "22/22 [==============================] - 0s 4ms/step - loss: 28.1701 - mean_squared_error: 28.1701 - val_loss: 49.7033 - val_mean_squared_error: 49.7033 - lr: 0.0240\n",
            "Epoch 103/150\n",
            "22/22 [==============================] - 0s 3ms/step - loss: 28.0206 - mean_squared_error: 28.0206 - val_loss: 50.5171 - val_mean_squared_error: 50.5171 - lr: 0.0240\n",
            "Epoch 104/150\n",
            "22/22 [==============================] - 0s 4ms/step - loss: 27.2167 - mean_squared_error: 27.2167 - val_loss: 49.4259 - val_mean_squared_error: 49.4259 - lr: 0.0240\n",
            "Epoch 105/150\n",
            "22/22 [==============================] - 0s 3ms/step - loss: 28.0584 - mean_squared_error: 28.0584 - val_loss: 53.4073 - val_mean_squared_error: 53.4073 - lr: 0.0168\n",
            "Epoch 106/150\n",
            "22/22 [==============================] - 0s 3ms/step - loss: 27.5211 - mean_squared_error: 27.5211 - val_loss: 49.7486 - val_mean_squared_error: 49.7486 - lr: 0.0168\n",
            "Epoch 107/150\n",
            "22/22 [==============================] - 0s 4ms/step - loss: 27.7993 - mean_squared_error: 27.7993 - val_loss: 49.3635 - val_mean_squared_error: 49.3635 - lr: 0.0168\n",
            "Epoch 108/150\n",
            "22/22 [==============================] - 0s 3ms/step - loss: 27.2979 - mean_squared_error: 27.2979 - val_loss: 50.6102 - val_mean_squared_error: 50.6102 - lr: 0.0168\n",
            "Epoch 109/150\n",
            "22/22 [==============================] - 0s 3ms/step - loss: 27.5290 - mean_squared_error: 27.5290 - val_loss: 48.6130 - val_mean_squared_error: 48.6130 - lr: 0.0168\n",
            "Epoch 110/150\n",
            "22/22 [==============================] - 0s 3ms/step - loss: 27.9707 - mean_squared_error: 27.9707 - val_loss: 48.7904 - val_mean_squared_error: 48.7904 - lr: 0.0168\n",
            "Epoch 111/150\n",
            "22/22 [==============================] - 0s 3ms/step - loss: 27.5118 - mean_squared_error: 27.5118 - val_loss: 51.9067 - val_mean_squared_error: 51.9067 - lr: 0.0168\n",
            "Epoch 112/150\n",
            "22/22 [==============================] - 0s 3ms/step - loss: 27.2277 - mean_squared_error: 27.2277 - val_loss: 48.4205 - val_mean_squared_error: 48.4205 - lr: 0.0168\n",
            "Epoch 113/150\n",
            "22/22 [==============================] - 0s 3ms/step - loss: 26.9461 - mean_squared_error: 26.9461 - val_loss: 49.2034 - val_mean_squared_error: 49.2034 - lr: 0.0168\n",
            "Epoch 114/150\n",
            "22/22 [==============================] - 0s 3ms/step - loss: 27.7214 - mean_squared_error: 27.7214 - val_loss: 48.9890 - val_mean_squared_error: 48.9890 - lr: 0.0168\n",
            "Epoch 115/150\n",
            "22/22 [==============================] - 0s 3ms/step - loss: 26.8984 - mean_squared_error: 26.8984 - val_loss: 49.0965 - val_mean_squared_error: 49.0965 - lr: 0.0168\n",
            "Epoch 116/150\n",
            "22/22 [==============================] - 0s 3ms/step - loss: 27.0061 - mean_squared_error: 27.0061 - val_loss: 49.5663 - val_mean_squared_error: 49.5663 - lr: 0.0168\n",
            "Epoch 117/150\n",
            "22/22 [==============================] - 0s 3ms/step - loss: 27.4194 - mean_squared_error: 27.4194 - val_loss: 49.0786 - val_mean_squared_error: 49.0786 - lr: 0.0168\n",
            "Epoch 118/150\n",
            "22/22 [==============================] - 0s 3ms/step - loss: 27.9343 - mean_squared_error: 27.9343 - val_loss: 48.0202 - val_mean_squared_error: 48.0202 - lr: 0.0168\n",
            "Epoch 119/150\n",
            "22/22 [==============================] - 0s 4ms/step - loss: 27.6597 - mean_squared_error: 27.6597 - val_loss: 48.7055 - val_mean_squared_error: 48.7055 - lr: 0.0168\n",
            "Epoch 120/150\n",
            "22/22 [==============================] - 0s 4ms/step - loss: 27.7013 - mean_squared_error: 27.7013 - val_loss: 49.0687 - val_mean_squared_error: 49.0687 - lr: 0.0168\n",
            "Epoch 121/150\n",
            "22/22 [==============================] - 0s 3ms/step - loss: 27.8442 - mean_squared_error: 27.8442 - val_loss: 48.7088 - val_mean_squared_error: 48.7088 - lr: 0.0168\n",
            "Epoch 122/150\n",
            "22/22 [==============================] - 0s 3ms/step - loss: 27.0038 - mean_squared_error: 27.0038 - val_loss: 48.8618 - val_mean_squared_error: 48.8618 - lr: 0.0168\n",
            "Epoch 123/150\n",
            "22/22 [==============================] - 0s 3ms/step - loss: 27.9453 - mean_squared_error: 27.9453 - val_loss: 51.4096 - val_mean_squared_error: 51.4096 - lr: 0.0168\n",
            "Epoch 124/150\n",
            "22/22 [==============================] - 0s 3ms/step - loss: 28.4398 - mean_squared_error: 28.4398 - val_loss: 48.7052 - val_mean_squared_error: 48.7052 - lr: 0.0168\n",
            "Epoch 125/150\n",
            "22/22 [==============================] - 0s 3ms/step - loss: 27.1543 - mean_squared_error: 27.1543 - val_loss: 48.9378 - val_mean_squared_error: 48.9378 - lr: 0.0168\n",
            "Epoch 126/150\n",
            "22/22 [==============================] - 0s 3ms/step - loss: 27.1410 - mean_squared_error: 27.1410 - val_loss: 50.1260 - val_mean_squared_error: 50.1260 - lr: 0.0168\n",
            "Epoch 127/150\n",
            "22/22 [==============================] - 0s 3ms/step - loss: 27.5956 - mean_squared_error: 27.5956 - val_loss: 50.0908 - val_mean_squared_error: 50.0908 - lr: 0.0168\n",
            "Epoch 128/150\n",
            "22/22 [==============================] - 0s 4ms/step - loss: 27.0377 - mean_squared_error: 27.0377 - val_loss: 48.6470 - val_mean_squared_error: 48.6470 - lr: 0.0168\n",
            "Epoch 129/150\n",
            "22/22 [==============================] - 0s 3ms/step - loss: 27.4410 - mean_squared_error: 27.4410 - val_loss: 48.7407 - val_mean_squared_error: 48.7407 - lr: 0.0118\n",
            "Epoch 130/150\n",
            "22/22 [==============================] - 0s 3ms/step - loss: 26.9528 - mean_squared_error: 26.9528 - val_loss: 52.0211 - val_mean_squared_error: 52.0211 - lr: 0.0118\n",
            "Epoch 131/150\n",
            "22/22 [==============================] - 0s 3ms/step - loss: 26.6353 - mean_squared_error: 26.6353 - val_loss: 48.4351 - val_mean_squared_error: 48.4351 - lr: 0.0118\n",
            "Epoch 132/150\n",
            "22/22 [==============================] - 0s 3ms/step - loss: 27.1245 - mean_squared_error: 27.1245 - val_loss: 49.4854 - val_mean_squared_error: 49.4854 - lr: 0.0118\n",
            "Epoch 133/150\n",
            "22/22 [==============================] - 0s 3ms/step - loss: 26.6857 - mean_squared_error: 26.6857 - val_loss: 48.0753 - val_mean_squared_error: 48.0753 - lr: 0.0118\n",
            "Epoch 134/150\n",
            "22/22 [==============================] - 0s 3ms/step - loss: 26.7251 - mean_squared_error: 26.7251 - val_loss: 47.7325 - val_mean_squared_error: 47.7325 - lr: 0.0118\n",
            "Epoch 135/150\n",
            "22/22 [==============================] - 0s 3ms/step - loss: 26.8636 - mean_squared_error: 26.8636 - val_loss: 50.1365 - val_mean_squared_error: 50.1365 - lr: 0.0118\n",
            "Epoch 136/150\n",
            "22/22 [==============================] - 0s 4ms/step - loss: 26.2902 - mean_squared_error: 26.2902 - val_loss: 50.7561 - val_mean_squared_error: 50.7561 - lr: 0.0118\n",
            "Epoch 137/150\n",
            "22/22 [==============================] - 0s 3ms/step - loss: 26.4397 - mean_squared_error: 26.4397 - val_loss: 48.4108 - val_mean_squared_error: 48.4108 - lr: 0.0118\n",
            "Epoch 138/150\n",
            "22/22 [==============================] - 0s 3ms/step - loss: 26.7090 - mean_squared_error: 26.7090 - val_loss: 48.7073 - val_mean_squared_error: 48.7073 - lr: 0.0118\n",
            "Epoch 139/150\n",
            "22/22 [==============================] - 0s 15ms/step - loss: 27.2127 - mean_squared_error: 27.2127 - val_loss: 48.3857 - val_mean_squared_error: 48.3857 - lr: 0.0118\n",
            "Epoch 140/150\n",
            "22/22 [==============================] - 0s 4ms/step - loss: 26.4933 - mean_squared_error: 26.4933 - val_loss: 49.8746 - val_mean_squared_error: 49.8746 - lr: 0.0118\n",
            "Epoch 141/150\n",
            "22/22 [==============================] - 0s 3ms/step - loss: 26.7419 - mean_squared_error: 26.7419 - val_loss: 49.5509 - val_mean_squared_error: 49.5509 - lr: 0.0118\n",
            "Epoch 142/150\n",
            "22/22 [==============================] - 0s 3ms/step - loss: 26.6462 - mean_squared_error: 26.6462 - val_loss: 48.7748 - val_mean_squared_error: 48.7748 - lr: 0.0118\n",
            "Epoch 143/150\n",
            "22/22 [==============================] - 0s 3ms/step - loss: 26.9801 - mean_squared_error: 26.9801 - val_loss: 51.0076 - val_mean_squared_error: 51.0076 - lr: 0.0118\n",
            "Epoch 144/150\n",
            "22/22 [==============================] - 0s 15ms/step - loss: 26.8546 - mean_squared_error: 26.8546 - val_loss: 49.2394 - val_mean_squared_error: 49.2394 - lr: 0.0118\n",
            "Epoch 145/150\n",
            "22/22 [==============================] - 0s 3ms/step - loss: 26.3310 - mean_squared_error: 26.3310 - val_loss: 48.0021 - val_mean_squared_error: 48.0021 - lr: 0.0082\n",
            "Epoch 146/150\n",
            "22/22 [==============================] - 0s 3ms/step - loss: 26.4623 - mean_squared_error: 26.4623 - val_loss: 51.0631 - val_mean_squared_error: 51.0631 - lr: 0.0082\n",
            "Epoch 147/150\n",
            "22/22 [==============================] - 0s 3ms/step - loss: 26.4176 - mean_squared_error: 26.4176 - val_loss: 48.7473 - val_mean_squared_error: 48.7473 - lr: 0.0082\n",
            "Epoch 148/150\n",
            "22/22 [==============================] - 0s 12ms/step - loss: 26.0319 - mean_squared_error: 26.0319 - val_loss: 49.1004 - val_mean_squared_error: 49.1004 - lr: 0.0082\n",
            "Epoch 149/150\n",
            "22/22 [==============================] - 0s 11ms/step - loss: 26.0157 - mean_squared_error: 26.0157 - val_loss: 50.0147 - val_mean_squared_error: 50.0147 - lr: 0.0082\n",
            "Epoch 150/150\n",
            "22/22 [==============================] - 0s 4ms/step - loss: 26.0555 - mean_squared_error: 26.0555 - val_loss: 49.3749 - val_mean_squared_error: 49.3749 - lr: 0.0082\n"
          ]
        }
      ],
      "source": [
        "history = sequential.fit(train_ds, validation_data=val_ds, epochs=150, callbacks=callback)"
      ]
    },
    {
      "cell_type": "markdown",
      "metadata": {
        "id": "PVvnauSOP6bf"
      },
      "source": [
        "the model has run for 150 epoch with mse of 26.0555 on the train data and 49.3749 on the validation data. I think we can conclude that the model is not yet a very good model in terms of its precision in predicting the output(concrete strength)"
      ]
    },
    {
      "cell_type": "markdown",
      "metadata": {
        "id": "f26bpTegTJFo"
      },
      "source": [
        "the number change a little bit every time i re-fit the model, however, it is not that significant (so please keep that in mind, Pak 😢)"
      ]
    },
    {
      "cell_type": "markdown",
      "metadata": {
        "id": "GuNsHKfiZ9Ck"
      },
      "source": [
        "#### Model Evaluation"
      ]
    },
    {
      "cell_type": "markdown",
      "metadata": {
        "id": "X4HZjLugaAxh"
      },
      "source": [
        "R2 Score"
      ]
    },
    {
      "cell_type": "code",
      "execution_count": 28,
      "metadata": {
        "colab": {
          "base_uri": "https://localhost:8080/"
        },
        "id": "v6xzG2MpZ-nM",
        "outputId": "b938aa4b-b001-4b6d-df06-582c522dfcf5"
      },
      "outputs": [
        {
          "name": "stdout",
          "output_type": "stream",
          "text": [
            "4/4 [==============================] - 0s 4ms/step\n"
          ]
        },
        {
          "data": {
            "text/plain": [
              "0.8348877594070572"
            ]
          },
          "execution_count": 28,
          "metadata": {},
          "output_type": "execute_result"
        }
      ],
      "source": [
        "from sklearn.metrics import r2_score\n",
        "\n",
        "y_pred = sequential.predict(x_test)\n",
        "r2_score(y_test, y_pred)"
      ]
    },
    {
      "cell_type": "markdown",
      "metadata": {
        "id": "9yJnMu53ckVi"
      },
      "source": [
        "MSE"
      ]
    },
    {
      "cell_type": "code",
      "execution_count": 29,
      "metadata": {
        "colab": {
          "base_uri": "https://localhost:8080/"
        },
        "id": "BVRwN1Olclid",
        "outputId": "a63ce6fe-c8fb-4f61-d86a-b667a01f0efc"
      },
      "outputs": [
        {
          "name": "stdout",
          "output_type": "stream",
          "text": [
            "4/4 [==============================] - 0s 4ms/step\n"
          ]
        },
        {
          "data": {
            "text/plain": [
              "36.743208009397215"
            ]
          },
          "execution_count": 29,
          "metadata": {},
          "output_type": "execute_result"
        }
      ],
      "source": [
        "from sklearn.metrics import mean_squared_error\n",
        "\n",
        "y_pred = sequential.predict(x_test)\n",
        "mean_squared_error(y_test, y_pred)"
      ]
    },
    {
      "cell_type": "markdown",
      "metadata": {
        "id": "HFnDFMXudlFU"
      },
      "source": [
        "Train Test Lost"
      ]
    },
    {
      "cell_type": "code",
      "execution_count": 30,
      "metadata": {
        "colab": {
          "base_uri": "https://localhost:8080/",
          "height": 449
        },
        "id": "Q1kNkMHEdOoU",
        "outputId": "5b993843-4040-4681-86ea-79cc4bb1555b"
      },
      "outputs": [
        {
          "data": {
            "image/png": "[encoded data removed]",
            "text/plain": [
              "<Figure size 640x480 with 1 Axes>"
            ]
          },
          "metadata": {},
          "output_type": "display_data"
        }
      ],
      "source": [
        "import matplotlib.pyplot as plt\n",
        "\n",
        "training_loss = history.history['loss']\n",
        "val_loss = history.history['val_loss']\n",
        "\n",
        "epoch_count = range(1, len(training_loss) + 1)\n",
        "\n",
        "# Visualize loss history\n",
        "plt.plot(epoch_count, training_loss, 'r--')\n",
        "plt.plot(epoch_count, val_loss, 'b-')\n",
        "plt.legend(['Training Loss', 'Validation Loss'])\n",
        "plt.xlabel('Epoch')\n",
        "plt.ylabel('Loss')\n",
        "plt.show()"
      ]
    },
    {
      "cell_type": "markdown",
      "metadata": {
        "id": "lZFb0Wjad1cd"
      },
      "source": [
        "Based on the train and test lost graph above, the model has reached convergence since epoch 80. As for the R2 Score and MSE, we can see that those numbers are contrary to each other. R2 Score itself explains the proportion of the variance in the dependent variable (target) that is predictable from the independent variables (features), while MSE represents the average squared difference between the actual and predicted values. So, we can conclude that the model is performing well in terms of explaining the variance in the target variable (R^2 score), but there are still a lot of significant errors in the predictions (MSE)."
      ]
    },
    {
      "cell_type": "markdown",
      "metadata": {},
      "source": [
        "To improve the model prediction performance, we will still need to do research on the feature processing or hyperparameter tuning for it may be the cause of why the model does not perform well when predicting. However, the data that is not suitable to the model may also be the root of the model perfoemance issue. Overall, further research is still needed to know exactly the reason why."
      ]
    },
    {
      "cell_type": "markdown",
      "metadata": {
        "id": "9NBwEFzndkD5"
      },
      "source": [
        "### Functional"
      ]
    },
    {
      "cell_type": "code",
      "execution_count": 31,
      "metadata": {
        "id": "aZEIAKFkdtDt"
      },
      "outputs": [],
      "source": [
        "inputs = tf.keras.Input(shape=(8,))\n",
        "normalized_input = normalizer(inputs)\n",
        "dense1 = Dense(13, activation='relu')(normalized_input)\n",
        "dense2 = Dense(2, activation='relu')(dense1)\n",
        "cat_layer = tf.keras.layers.Concatenate(axis=1)([dense1, dense2])\n",
        "outputs = Dense(1)(cat_layer)"
      ]
    },
    {
      "cell_type": "code",
      "execution_count": 32,
      "metadata": {
        "colab": {
          "base_uri": "https://localhost:8080/"
        },
        "id": "MfhcQ7byh0k0",
        "outputId": "8b1871da-0110-44d6-f852-f19e560d8c9a"
      },
      "outputs": [
        {
          "name": "stdout",
          "output_type": "stream",
          "text": [
            "Model: \"model\"\n",
            "__________________________________________________________________________________________________\n",
            " Layer (type)                Output Shape                 Param #   Connected to                  \n",
            "==================================================================================================\n",
            " input_1 (InputLayer)        [(None, 8)]                  0         []                            \n",
            "                                                                                                  \n",
            " normalization (Normalizati  (None, 8)                    17        ['input_1[0][0]']             \n",
            " on)                                                                                              \n",
            "                                                                                                  \n",
            " dense_3 (Dense)             (None, 13)                   117       ['normalization[1][0]']       \n",
            "                                                                                                  \n",
            " dense_4 (Dense)             (None, 2)                    28        ['dense_3[0][0]']             \n",
            "                                                                                                  \n",
            " concatenate (Concatenate)   (None, 15)                   0         ['dense_3[0][0]',             \n",
            "                                                                     'dense_4[0][0]']             \n",
            "                                                                                                  \n",
            " dense_5 (Dense)             (None, 1)                    16        ['concatenate[0][0]']         \n",
            "                                                                                                  \n",
            "==================================================================================================\n",
            "Total params: 178 (716.00 Byte)\n",
            "Trainable params: 161 (644.00 Byte)\n",
            "Non-trainable params: 17 (72.00 Byte)\n",
            "__________________________________________________________________________________________________\n"
          ]
        }
      ],
      "source": [
        "functional = Model(inputs=inputs, outputs=outputs)\n",
        "functional.summary()"
      ]
    },
    {
      "cell_type": "code",
      "execution_count": 33,
      "metadata": {
        "colab": {
          "base_uri": "https://localhost:8080/",
          "height": 564
        },
        "id": "dJyMt-PFh7aP",
        "outputId": "1098632e-eb90-4db0-e586-802574ba94e2"
      },
      "outputs": [
        {
          "data": {
            "image/png": "[encoded data removed]",
            "text/plain": [
              "<IPython.core.display.Image object>"
            ]
          },
          "execution_count": 33,
          "metadata": {},
          "output_type": "execute_result"
        }
      ],
      "source": [
        "from tensorflow.keras.utils import plot_model\n",
        "\n",
        "plot_model(functional)"
      ]
    },
    {
      "cell_type": "code",
      "execution_count": 34,
      "metadata": {
        "id": "2TavnMtViLL0"
      },
      "outputs": [],
      "source": [
        "functional.compile(loss=[\"mean_squared_error\"], optimizer=tf.keras.optimizers.Adam(learning_rate=0.01), metrics=[\"mean_squared_error\"])"
      ]
    },
    {
      "cell_type": "markdown",
      "metadata": {
        "id": "MEV_DEoMlLaS"
      },
      "source": [
        "#### Callback function (No 3)"
      ]
    },
    {
      "cell_type": "code",
      "execution_count": 35,
      "metadata": {
        "id": "q8hlNWhejlmt"
      },
      "outputs": [],
      "source": [
        "from tensorflow.keras.callbacks import EarlyStopping\n",
        "\n",
        "callback = EarlyStopping(monitor='val_loss', patience=10, mode='auto')"
      ]
    },
    {
      "cell_type": "markdown",
      "metadata": {
        "id": "sxpNtSoIRAQ2"
      },
      "source": [
        "The callback function above will stop the training if the validation loss does not improve for 10 consecutive epochs, and the model will be restored to the weights that achieved the best validation loss"
      ]
    },
    {
      "cell_type": "markdown",
      "metadata": {
        "id": "9aUTykVXlOni"
      },
      "source": [
        "#### Fit the Model"
      ]
    },
    {
      "cell_type": "code",
      "execution_count": 36,
      "metadata": {
        "colab": {
          "base_uri": "https://localhost:8080/"
        },
        "id": "-K4IZfmdj2Oc",
        "outputId": "55b3f9ae-4c59-4377-e094-ad91b2c63209"
      },
      "outputs": [
        {
          "name": "stdout",
          "output_type": "stream",
          "text": [
            "Epoch 1/150\n",
            "22/22 [==============================] - 1s 13ms/step - loss: 1322.4910 - mean_squared_error: 1322.4910 - val_loss: 1314.5454 - val_mean_squared_error: 1314.5454\n",
            "Epoch 2/150\n",
            "22/22 [==============================] - 0s 5ms/step - loss: 1039.7351 - mean_squared_error: 1039.7351 - val_loss: 899.2556 - val_mean_squared_error: 899.2556\n",
            "Epoch 3/150\n",
            "22/22 [==============================] - 0s 6ms/step - loss: 574.8536 - mean_squared_error: 574.8536 - val_loss: 379.9900 - val_mean_squared_error: 379.9900\n",
            "Epoch 4/150\n",
            "22/22 [==============================] - 0s 5ms/step - loss: 239.0833 - mean_squared_error: 239.0833 - val_loss: 237.7917 - val_mean_squared_error: 237.7917\n",
            "Epoch 5/150\n",
            "22/22 [==============================] - 0s 5ms/step - loss: 173.9728 - mean_squared_error: 173.9728 - val_loss: 201.1004 - val_mean_squared_error: 201.1004\n",
            "Epoch 6/150\n",
            "22/22 [==============================] - 0s 5ms/step - loss: 150.1278 - mean_squared_error: 150.1278 - val_loss: 192.8829 - val_mean_squared_error: 192.8829\n",
            "Epoch 7/150\n",
            "22/22 [==============================] - 0s 5ms/step - loss: 140.3110 - mean_squared_error: 140.3110 - val_loss: 185.3112 - val_mean_squared_error: 185.3112\n",
            "Epoch 8/150\n",
            "22/22 [==============================] - 0s 3ms/step - loss: 135.0282 - mean_squared_error: 135.0282 - val_loss: 178.1318 - val_mean_squared_error: 178.1318\n",
            "Epoch 9/150\n",
            "22/22 [==============================] - 0s 3ms/step - loss: 130.0181 - mean_squared_error: 130.0181 - val_loss: 175.0471 - val_mean_squared_error: 175.0471\n",
            "Epoch 10/150\n",
            "22/22 [==============================] - 0s 3ms/step - loss: 126.8786 - mean_squared_error: 126.8786 - val_loss: 166.7948 - val_mean_squared_error: 166.7948\n",
            "Epoch 11/150\n",
            "22/22 [==============================] - 0s 3ms/step - loss: 122.6517 - mean_squared_error: 122.6517 - val_loss: 164.5950 - val_mean_squared_error: 164.5950\n",
            "Epoch 12/150\n",
            "22/22 [==============================] - 0s 3ms/step - loss: 120.4313 - mean_squared_error: 120.4313 - val_loss: 157.8264 - val_mean_squared_error: 157.8264\n",
            "Epoch 13/150\n",
            "22/22 [==============================] - 0s 3ms/step - loss: 116.5106 - mean_squared_error: 116.5106 - val_loss: 154.7683 - val_mean_squared_error: 154.7683\n",
            "Epoch 14/150\n",
            "22/22 [==============================] - 0s 3ms/step - loss: 113.7925 - mean_squared_error: 113.7925 - val_loss: 149.6449 - val_mean_squared_error: 149.6449\n",
            "Epoch 15/150\n",
            "22/22 [==============================] - 0s 3ms/step - loss: 110.1754 - mean_squared_error: 110.1754 - val_loss: 143.8995 - val_mean_squared_error: 143.8995\n",
            "Epoch 16/150\n",
            "22/22 [==============================] - 0s 3ms/step - loss: 103.2520 - mean_squared_error: 103.2520 - val_loss: 134.0076 - val_mean_squared_error: 134.0076\n",
            "Epoch 17/150\n",
            "22/22 [==============================] - 0s 3ms/step - loss: 99.0096 - mean_squared_error: 99.0096 - val_loss: 127.6509 - val_mean_squared_error: 127.6509\n",
            "Epoch 18/150\n",
            "22/22 [==============================] - 0s 3ms/step - loss: 89.5545 - mean_squared_error: 89.5545 - val_loss: 118.2655 - val_mean_squared_error: 118.2655\n",
            "Epoch 19/150\n",
            "22/22 [==============================] - 0s 3ms/step - loss: 79.6838 - mean_squared_error: 79.6838 - val_loss: 109.3547 - val_mean_squared_error: 109.3547\n",
            "Epoch 20/150\n",
            "22/22 [==============================] - 0s 3ms/step - loss: 72.3346 - mean_squared_error: 72.3346 - val_loss: 101.6083 - val_mean_squared_error: 101.6083\n",
            "Epoch 21/150\n",
            "22/22 [==============================] - 0s 3ms/step - loss: 65.9781 - mean_squared_error: 65.9781 - val_loss: 94.5300 - val_mean_squared_error: 94.5300\n",
            "Epoch 22/150\n",
            "22/22 [==============================] - 0s 3ms/step - loss: 61.9284 - mean_squared_error: 61.9284 - val_loss: 90.5059 - val_mean_squared_error: 90.5059\n",
            "Epoch 23/150\n",
            "22/22 [==============================] - 0s 3ms/step - loss: 56.1469 - mean_squared_error: 56.1469 - val_loss: 83.5388 - val_mean_squared_error: 83.5388\n",
            "Epoch 24/150\n",
            "22/22 [==============================] - 0s 3ms/step - loss: 54.5449 - mean_squared_error: 54.5449 - val_loss: 81.6533 - val_mean_squared_error: 81.6533\n",
            "Epoch 25/150\n",
            "22/22 [==============================] - 0s 3ms/step - loss: 52.0788 - mean_squared_error: 52.0788 - val_loss: 76.4109 - val_mean_squared_error: 76.4109\n",
            "Epoch 26/150\n",
            "22/22 [==============================] - 0s 3ms/step - loss: 49.9138 - mean_squared_error: 49.9138 - val_loss: 75.0275 - val_mean_squared_error: 75.0275\n",
            "Epoch 27/150\n",
            "22/22 [==============================] - 0s 3ms/step - loss: 47.7407 - mean_squared_error: 47.7407 - val_loss: 72.8410 - val_mean_squared_error: 72.8410\n",
            "Epoch 28/150\n",
            "22/22 [==============================] - 0s 4ms/step - loss: 46.7876 - mean_squared_error: 46.7876 - val_loss: 68.7531 - val_mean_squared_error: 68.7531\n",
            "Epoch 29/150\n",
            "22/22 [==============================] - 0s 3ms/step - loss: 44.9679 - mean_squared_error: 44.9679 - val_loss: 69.1647 - val_mean_squared_error: 69.1647\n",
            "Epoch 30/150\n",
            "22/22 [==============================] - 0s 3ms/step - loss: 43.7834 - mean_squared_error: 43.7834 - val_loss: 65.0567 - val_mean_squared_error: 65.0567\n",
            "Epoch 31/150\n",
            "22/22 [==============================] - 0s 3ms/step - loss: 42.0458 - mean_squared_error: 42.0458 - val_loss: 62.8421 - val_mean_squared_error: 62.8421\n",
            "Epoch 32/150\n",
            "22/22 [==============================] - 0s 3ms/step - loss: 41.6349 - mean_squared_error: 41.6349 - val_loss: 61.4941 - val_mean_squared_error: 61.4941\n",
            "Epoch 33/150\n",
            "22/22 [==============================] - 0s 4ms/step - loss: 40.0981 - mean_squared_error: 40.0981 - val_loss: 60.0366 - val_mean_squared_error: 60.0366\n",
            "Epoch 34/150\n",
            "22/22 [==============================] - 0s 3ms/step - loss: 39.8598 - mean_squared_error: 39.8598 - val_loss: 58.8386 - val_mean_squared_error: 58.8386\n",
            "Epoch 35/150\n",
            "22/22 [==============================] - 0s 3ms/step - loss: 38.3376 - mean_squared_error: 38.3376 - val_loss: 59.3652 - val_mean_squared_error: 59.3652\n",
            "Epoch 36/150\n",
            "22/22 [==============================] - 0s 3ms/step - loss: 38.5714 - mean_squared_error: 38.5714 - val_loss: 56.4967 - val_mean_squared_error: 56.4967\n",
            "Epoch 37/150\n",
            "22/22 [==============================] - 0s 3ms/step - loss: 37.7121 - mean_squared_error: 37.7121 - val_loss: 54.9542 - val_mean_squared_error: 54.9542\n",
            "Epoch 38/150\n",
            "22/22 [==============================] - 0s 3ms/step - loss: 37.1563 - mean_squared_error: 37.1563 - val_loss: 55.0197 - val_mean_squared_error: 55.0197\n",
            "Epoch 39/150\n",
            "22/22 [==============================] - 0s 3ms/step - loss: 36.7977 - mean_squared_error: 36.7977 - val_loss: 53.5472 - val_mean_squared_error: 53.5472\n",
            "Epoch 40/150\n",
            "22/22 [==============================] - 0s 3ms/step - loss: 36.3120 - mean_squared_error: 36.3120 - val_loss: 54.2255 - val_mean_squared_error: 54.2255\n",
            "Epoch 41/150\n",
            "22/22 [==============================] - 0s 3ms/step - loss: 36.3890 - mean_squared_error: 36.3890 - val_loss: 55.2482 - val_mean_squared_error: 55.2482\n",
            "Epoch 42/150\n",
            "22/22 [==============================] - 0s 3ms/step - loss: 35.5373 - mean_squared_error: 35.5373 - val_loss: 53.1379 - val_mean_squared_error: 53.1379\n",
            "Epoch 43/150\n",
            "22/22 [==============================] - 0s 4ms/step - loss: 35.3488 - mean_squared_error: 35.3488 - val_loss: 54.3639 - val_mean_squared_error: 54.3639\n",
            "Epoch 44/150\n",
            "22/22 [==============================] - 0s 3ms/step - loss: 35.1327 - mean_squared_error: 35.1327 - val_loss: 52.1482 - val_mean_squared_error: 52.1482\n",
            "Epoch 45/150\n",
            "22/22 [==============================] - 0s 3ms/step - loss: 35.6892 - mean_squared_error: 35.6892 - val_loss: 52.3417 - val_mean_squared_error: 52.3417\n",
            "Epoch 46/150\n",
            "22/22 [==============================] - 0s 3ms/step - loss: 34.6353 - mean_squared_error: 34.6353 - val_loss: 52.5320 - val_mean_squared_error: 52.5320\n",
            "Epoch 47/150\n",
            "22/22 [==============================] - 0s 3ms/step - loss: 34.9471 - mean_squared_error: 34.9471 - val_loss: 52.2332 - val_mean_squared_error: 52.2332\n",
            "Epoch 48/150\n",
            "22/22 [==============================] - 0s 3ms/step - loss: 34.2332 - mean_squared_error: 34.2332 - val_loss: 53.5224 - val_mean_squared_error: 53.5224\n",
            "Epoch 49/150\n",
            "22/22 [==============================] - 0s 3ms/step - loss: 34.0975 - mean_squared_error: 34.0975 - val_loss: 51.0887 - val_mean_squared_error: 51.0887\n",
            "Epoch 50/150\n",
            "22/22 [==============================] - 0s 4ms/step - loss: 34.1564 - mean_squared_error: 34.1564 - val_loss: 53.4453 - val_mean_squared_error: 53.4453\n",
            "Epoch 51/150\n",
            "22/22 [==============================] - 0s 3ms/step - loss: 34.0485 - mean_squared_error: 34.0485 - val_loss: 52.1934 - val_mean_squared_error: 52.1934\n",
            "Epoch 52/150\n",
            "22/22 [==============================] - 0s 3ms/step - loss: 33.8390 - mean_squared_error: 33.8390 - val_loss: 51.4137 - val_mean_squared_error: 51.4137\n",
            "Epoch 53/150\n",
            "22/22 [==============================] - 0s 3ms/step - loss: 33.2703 - mean_squared_error: 33.2703 - val_loss: 53.4510 - val_mean_squared_error: 53.4510\n",
            "Epoch 54/150\n",
            "22/22 [==============================] - 0s 3ms/step - loss: 33.4084 - mean_squared_error: 33.4084 - val_loss: 52.1342 - val_mean_squared_error: 52.1342\n",
            "Epoch 55/150\n",
            "22/22 [==============================] - 0s 3ms/step - loss: 33.1904 - mean_squared_error: 33.1904 - val_loss: 50.8605 - val_mean_squared_error: 50.8605\n",
            "Epoch 56/150\n",
            "22/22 [==============================] - 0s 3ms/step - loss: 33.3439 - mean_squared_error: 33.3439 - val_loss: 51.5039 - val_mean_squared_error: 51.5039\n",
            "Epoch 57/150\n",
            "22/22 [==============================] - 0s 4ms/step - loss: 32.5022 - mean_squared_error: 32.5022 - val_loss: 51.4943 - val_mean_squared_error: 51.4943\n",
            "Epoch 58/150\n",
            "22/22 [==============================] - 0s 3ms/step - loss: 33.0756 - mean_squared_error: 33.0756 - val_loss: 51.2581 - val_mean_squared_error: 51.2581\n",
            "Epoch 59/150\n",
            "22/22 [==============================] - 0s 3ms/step - loss: 32.9401 - mean_squared_error: 32.9401 - val_loss: 51.1665 - val_mean_squared_error: 51.1665\n",
            "Epoch 60/150\n",
            "22/22 [==============================] - 0s 3ms/step - loss: 32.3484 - mean_squared_error: 32.3484 - val_loss: 51.5996 - val_mean_squared_error: 51.5996\n",
            "Epoch 61/150\n",
            "22/22 [==============================] - 0s 3ms/step - loss: 32.4012 - mean_squared_error: 32.4012 - val_loss: 49.8731 - val_mean_squared_error: 49.8731\n",
            "Epoch 62/150\n",
            "22/22 [==============================] - 0s 3ms/step - loss: 32.6039 - mean_squared_error: 32.6039 - val_loss: 51.1709 - val_mean_squared_error: 51.1709\n",
            "Epoch 63/150\n",
            "22/22 [==============================] - 0s 3ms/step - loss: 32.2412 - mean_squared_error: 32.2412 - val_loss: 49.3421 - val_mean_squared_error: 49.3421\n",
            "Epoch 64/150\n",
            "22/22 [==============================] - 0s 3ms/step - loss: 31.6698 - mean_squared_error: 31.6698 - val_loss: 49.8411 - val_mean_squared_error: 49.8411\n",
            "Epoch 65/150\n",
            "22/22 [==============================] - 0s 3ms/step - loss: 31.7404 - mean_squared_error: 31.7404 - val_loss: 50.0943 - val_mean_squared_error: 50.0943\n",
            "Epoch 66/150\n",
            "22/22 [==============================] - 0s 3ms/step - loss: 31.8798 - mean_squared_error: 31.8798 - val_loss: 51.6501 - val_mean_squared_error: 51.6501\n",
            "Epoch 67/150\n",
            "22/22 [==============================] - 0s 3ms/step - loss: 31.6974 - mean_squared_error: 31.6974 - val_loss: 51.1480 - val_mean_squared_error: 51.1480\n",
            "Epoch 68/150\n",
            "22/22 [==============================] - 0s 3ms/step - loss: 32.3369 - mean_squared_error: 32.3369 - val_loss: 51.3895 - val_mean_squared_error: 51.3895\n",
            "Epoch 69/150\n",
            "22/22 [==============================] - 0s 3ms/step - loss: 31.6064 - mean_squared_error: 31.6064 - val_loss: 51.1189 - val_mean_squared_error: 51.1189\n",
            "Epoch 70/150\n",
            "22/22 [==============================] - 0s 3ms/step - loss: 31.6082 - mean_squared_error: 31.6082 - val_loss: 49.6455 - val_mean_squared_error: 49.6455\n",
            "Epoch 71/150\n",
            "22/22 [==============================] - 0s 3ms/step - loss: 31.4372 - mean_squared_error: 31.4372 - val_loss: 51.0438 - val_mean_squared_error: 51.0438\n",
            "Epoch 72/150\n",
            "22/22 [==============================] - 0s 3ms/step - loss: 31.5418 - mean_squared_error: 31.5418 - val_loss: 49.3516 - val_mean_squared_error: 49.3516\n",
            "Epoch 73/150\n",
            "22/22 [==============================] - 0s 3ms/step - loss: 30.8968 - mean_squared_error: 30.8968 - val_loss: 49.1958 - val_mean_squared_error: 49.1958\n",
            "Epoch 74/150\n",
            "22/22 [==============================] - 0s 3ms/step - loss: 30.9937 - mean_squared_error: 30.9937 - val_loss: 51.3195 - val_mean_squared_error: 51.3195\n",
            "Epoch 75/150\n",
            "22/22 [==============================] - 0s 3ms/step - loss: 31.2724 - mean_squared_error: 31.2724 - val_loss: 48.9836 - val_mean_squared_error: 48.9836\n",
            "Epoch 76/150\n",
            "22/22 [==============================] - 0s 4ms/step - loss: 31.8223 - mean_squared_error: 31.8223 - val_loss: 51.9415 - val_mean_squared_error: 51.9415\n",
            "Epoch 77/150\n",
            "22/22 [==============================] - 0s 3ms/step - loss: 31.6518 - mean_squared_error: 31.6518 - val_loss: 50.1052 - val_mean_squared_error: 50.1052\n",
            "Epoch 78/150\n",
            "22/22 [==============================] - 0s 3ms/step - loss: 31.1626 - mean_squared_error: 31.1626 - val_loss: 49.7794 - val_mean_squared_error: 49.7794\n",
            "Epoch 79/150\n",
            "22/22 [==============================] - 0s 3ms/step - loss: 30.5782 - mean_squared_error: 30.5782 - val_loss: 49.5956 - val_mean_squared_error: 49.5956\n",
            "Epoch 80/150\n",
            "22/22 [==============================] - 0s 3ms/step - loss: 30.6130 - mean_squared_error: 30.6130 - val_loss: 50.6269 - val_mean_squared_error: 50.6269\n",
            "Epoch 81/150\n",
            "22/22 [==============================] - 0s 3ms/step - loss: 31.3423 - mean_squared_error: 31.3423 - val_loss: 48.7266 - val_mean_squared_error: 48.7266\n",
            "Epoch 82/150\n",
            "22/22 [==============================] - 0s 3ms/step - loss: 30.2343 - mean_squared_error: 30.2343 - val_loss: 50.8859 - val_mean_squared_error: 50.8859\n",
            "Epoch 83/150\n",
            "22/22 [==============================] - 0s 3ms/step - loss: 30.5922 - mean_squared_error: 30.5922 - val_loss: 49.8346 - val_mean_squared_error: 49.8346\n",
            "Epoch 84/150\n",
            "22/22 [==============================] - 0s 3ms/step - loss: 30.1964 - mean_squared_error: 30.1964 - val_loss: 49.3014 - val_mean_squared_error: 49.3014\n",
            "Epoch 85/150\n",
            "22/22 [==============================] - 0s 4ms/step - loss: 30.2864 - mean_squared_error: 30.2864 - val_loss: 48.4513 - val_mean_squared_error: 48.4513\n",
            "Epoch 86/150\n",
            "22/22 [==============================] - 0s 3ms/step - loss: 30.1589 - mean_squared_error: 30.1589 - val_loss: 48.8773 - val_mean_squared_error: 48.8773\n",
            "Epoch 87/150\n",
            "22/22 [==============================] - 0s 3ms/step - loss: 30.1861 - mean_squared_error: 30.1861 - val_loss: 49.2288 - val_mean_squared_error: 49.2288\n",
            "Epoch 88/150\n",
            "22/22 [==============================] - 0s 6ms/step - loss: 30.9842 - mean_squared_error: 30.9842 - val_loss: 49.7918 - val_mean_squared_error: 49.7918\n",
            "Epoch 89/150\n",
            "22/22 [==============================] - 0s 5ms/step - loss: 30.1659 - mean_squared_error: 30.1659 - val_loss: 48.3722 - val_mean_squared_error: 48.3722\n",
            "Epoch 90/150\n",
            "22/22 [==============================] - 0s 5ms/step - loss: 30.0161 - mean_squared_error: 30.0161 - val_loss: 49.4200 - val_mean_squared_error: 49.4200\n",
            "Epoch 91/150\n",
            "22/22 [==============================] - 0s 5ms/step - loss: 31.1077 - mean_squared_error: 31.1077 - val_loss: 49.2434 - val_mean_squared_error: 49.2434\n",
            "Epoch 92/150\n",
            "22/22 [==============================] - 0s 5ms/step - loss: 30.3342 - mean_squared_error: 30.3342 - val_loss: 52.1784 - val_mean_squared_error: 52.1784\n",
            "Epoch 93/150\n",
            "22/22 [==============================] - 0s 4ms/step - loss: 31.3918 - mean_squared_error: 31.3918 - val_loss: 50.6268 - val_mean_squared_error: 50.6268\n",
            "Epoch 94/150\n",
            "22/22 [==============================] - 0s 4ms/step - loss: 30.8235 - mean_squared_error: 30.8235 - val_loss: 48.8042 - val_mean_squared_error: 48.8042\n",
            "Epoch 95/150\n",
            "22/22 [==============================] - 0s 4ms/step - loss: 30.5446 - mean_squared_error: 30.5446 - val_loss: 47.0066 - val_mean_squared_error: 47.0066\n",
            "Epoch 96/150\n",
            "22/22 [==============================] - 0s 4ms/step - loss: 29.9178 - mean_squared_error: 29.9178 - val_loss: 50.9061 - val_mean_squared_error: 50.9061\n",
            "Epoch 97/150\n",
            "22/22 [==============================] - 0s 5ms/step - loss: 29.5425 - mean_squared_error: 29.5425 - val_loss: 49.2488 - val_mean_squared_error: 49.2488\n",
            "Epoch 98/150\n",
            "22/22 [==============================] - 0s 5ms/step - loss: 30.0166 - mean_squared_error: 30.0166 - val_loss: 47.8212 - val_mean_squared_error: 47.8212\n",
            "Epoch 99/150\n",
            "22/22 [==============================] - 0s 6ms/step - loss: 30.1345 - mean_squared_error: 30.1345 - val_loss: 51.9895 - val_mean_squared_error: 51.9895\n",
            "Epoch 100/150\n",
            "22/22 [==============================] - 0s 5ms/step - loss: 30.0585 - mean_squared_error: 30.0585 - val_loss: 48.4537 - val_mean_squared_error: 48.4537\n",
            "Epoch 101/150\n",
            "22/22 [==============================] - 0s 5ms/step - loss: 30.1528 - mean_squared_error: 30.1528 - val_loss: 49.2153 - val_mean_squared_error: 49.2153\n",
            "Epoch 102/150\n",
            "22/22 [==============================] - 0s 5ms/step - loss: 30.2423 - mean_squared_error: 30.2423 - val_loss: 50.2324 - val_mean_squared_error: 50.2324\n",
            "Epoch 103/150\n",
            "22/22 [==============================] - 0s 3ms/step - loss: 29.7502 - mean_squared_error: 29.7502 - val_loss: 47.3774 - val_mean_squared_error: 47.3774\n",
            "Epoch 104/150\n",
            "22/22 [==============================] - 0s 3ms/step - loss: 30.3977 - mean_squared_error: 30.3977 - val_loss: 48.9579 - val_mean_squared_error: 48.9579\n",
            "Epoch 105/150\n",
            "22/22 [==============================] - 0s 3ms/step - loss: 29.8690 - mean_squared_error: 29.8690 - val_loss: 49.8342 - val_mean_squared_error: 49.8342\n"
          ]
        }
      ],
      "source": [
        "history = functional.fit(train_ds, validation_data=val_ds, epochs=150, callbacks=callback)"
      ]
    },
    {
      "cell_type": "markdown",
      "metadata": {
        "id": "gJFMJ5oCT1sd"
      },
      "source": [
        "\n",
        "\n",
        "the model has run for 150 epoch with mse of 29.8690  on the train data and 49.8342 on the validation data. I think we can conclude that the model is not yet a very good model in terms of its precision in predicting the output(concrete strength)\n",
        "\n",
        "the number change a little bit every time i re-fit the model, however, it is not that significant (so please keep that in mind, Pak 😢)"
      ]
    },
    {
      "cell_type": "markdown",
      "metadata": {
        "id": "NF2C0FAOlTc4"
      },
      "source": [
        "#### Model Evaluation"
      ]
    },
    {
      "cell_type": "markdown",
      "metadata": {
        "id": "WY-IwW9QlaUX"
      },
      "source": [
        "R2 Score"
      ]
    },
    {
      "cell_type": "code",
      "execution_count": 37,
      "metadata": {
        "colab": {
          "base_uri": "https://localhost:8080/"
        },
        "id": "y2JxHK0FlaF_",
        "outputId": "6ce82fd0-9d2f-4c91-edaa-dc1318a3553b"
      },
      "outputs": [
        {
          "name": "stdout",
          "output_type": "stream",
          "text": [
            "4/4 [==============================] - 0s 3ms/step\n"
          ]
        },
        {
          "data": {
            "text/plain": [
              "0.7640702768292702"
            ]
          },
          "execution_count": 37,
          "metadata": {},
          "output_type": "execute_result"
        }
      ],
      "source": [
        "from sklearn.metrics import r2_score\n",
        "\n",
        "y_pred = functional.predict(x_test)\n",
        "r2_score(y_test, y_pred)"
      ]
    },
    {
      "cell_type": "markdown",
      "metadata": {
        "id": "TS8CUv2olbZB"
      },
      "source": [
        "MSE"
      ]
    },
    {
      "cell_type": "code",
      "execution_count": 38,
      "metadata": {
        "colab": {
          "base_uri": "https://localhost:8080/"
        },
        "id": "ZUgS6O-MlZ6m",
        "outputId": "2ca1430e-3e57-4bca-962f-843e4083bf3b"
      },
      "outputs": [
        {
          "name": "stdout",
          "output_type": "stream",
          "text": [
            "4/4 [==============================] - 0s 3ms/step\n"
          ]
        },
        {
          "data": {
            "text/plain": [
              "52.50255742960432"
            ]
          },
          "execution_count": 38,
          "metadata": {},
          "output_type": "execute_result"
        }
      ],
      "source": [
        "from sklearn.metrics import mean_squared_error\n",
        "\n",
        "y_pred = functional.predict(x_test)\n",
        "mean_squared_error(y_test, y_pred)"
      ]
    },
    {
      "cell_type": "markdown",
      "metadata": {
        "id": "NVZMp4PVlcNb"
      },
      "source": [
        "Train Val Loss"
      ]
    },
    {
      "cell_type": "code",
      "execution_count": 39,
      "metadata": {
        "colab": {
          "base_uri": "https://localhost:8080/",
          "height": 449
        },
        "id": "GPMl0CCFlZxZ",
        "outputId": "057c3fbb-21f7-460e-9da0-37ee3c452252"
      },
      "outputs": [
        {
          "data": {
            "image/png": "[encoded data removed]",
            "text/plain": [
              "<Figure size 640x480 with 1 Axes>"
            ]
          },
          "metadata": {},
          "output_type": "display_data"
        }
      ],
      "source": [
        "import matplotlib.pyplot as plt\n",
        "\n",
        "training_loss = history.history['loss']\n",
        "val_loss = history.history['val_loss']\n",
        "\n",
        "epoch_count = range(1, len(training_loss) + 1)\n",
        "\n",
        "# Visualize loss history\n",
        "plt.plot(epoch_count, training_loss, 'r--')\n",
        "plt.plot(epoch_count, val_loss, 'b-')\n",
        "plt.legend(['Training Loss', 'Validation Loss'])\n",
        "plt.xlabel('Epoch')\n",
        "plt.ylabel('Loss')\n",
        "plt.show()"
      ]
    },
    {
      "cell_type": "markdown",
      "metadata": {
        "id": "0xl7YQUCltKT"
      },
      "source": [
        "Based on the train and test lost graph above, the model has reached convergence since epoch 30ish. As for the R2 Score and MSE, we can see that likewise the sequential model, those numbers are contrary to each other. R2 Score itself explains the proportion of the variance in the dependent variable (target) that is predictable from the independent variables (features), while MSE represents the average squared difference between the actual and predicted values. So, we can conclude that the model is performing well in terms of explaining the variance in the target variable (R^2 score), but there are still a lot of significant errors in the predictions (MSE)."
      ]
    },
    {
      "cell_type": "markdown",
      "metadata": {},
      "source": [
        "To improve the model prediction performance, we will still need to do research on the feature processing or hyperparameter tuning for it may be the cause of why the model does not perform well when predicting. However, the data that is not suitable to the model may also be the root of the model perfoemance issue. Overall, further research is still needed to know exactly the reason why."
      ]
    },
    {
      "cell_type": "markdown",
      "metadata": {
        "id": "cflKFm_haPND"
      },
      "source": [
        "# No 4"
      ]
    },
    {
      "cell_type": "markdown",
      "metadata": {
        "id": "9PEdwLk9aVDN"
      },
      "source": [
        "In your own words, explain briefly what a callback function does! (max. 1 point)"
      ]
    },
    {
      "cell_type": "markdown",
      "metadata": {
        "id": "IIGvjTG8l51y"
      },
      "source": [
        "A callback function is a function that is passed as an argument to another function, and it gets executed at a later point in time, usually after some specific event or condition as its trigger has occured. In this situation (deep learning, machine learning(?)), it is called repeatedly during a certain process and is used to validate or correct a certain behavior (learning rate does not improve). For example, we can use it to define what happen before, during or at the end of an epoch."
      ]
    },
    {
      "cell_type": "markdown",
      "metadata": {
        "id": "n7UlP0ZVabfq"
      },
      "source": [
        "# No 5"
      ]
    },
    {
      "cell_type": "markdown",
      "metadata": {
        "id": "4gPchlnDadwA"
      },
      "source": [
        "Tell me a joke related to ANN / Deep Learning"
      ]
    },
    {
      "cell_type": "markdown",
      "metadata": {
        "id": "BWjIohMRdJe3"
      },
      "source": [
        "- Why did the deep learning model join a comedy club? Because it heard they had great \"training\" data for laugh detection!\n",
        "- Why did the artificial neural network go to therapy? Because it couldn't stop overthinking its activation functions!\n"
      ]
    }
  ],
  "metadata": {
    "accelerator": "GPU",
    "colab": {
      "gpuType": "T4",
      "provenance": [],
      "toc_visible": true
    },
    "kernelspec": {
      "display_name": "Python 3",
      "name": "python3"
    },
    "language_info": {
      "name": "python"
    }
  },
  "nbformat": 4,
  "nbformat_minor": 0
}
